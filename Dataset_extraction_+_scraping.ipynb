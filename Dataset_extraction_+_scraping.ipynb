{
  "nbformat": 4,
  "nbformat_minor": 0,
  "metadata": {
    "colab": {
      "name": "Dataset extraction + scraping.ipynb",
      "version": "0.3.2",
      "provenance": [],
      "collapsed_sections": [],
      "include_colab_link": true
    },
    "kernelspec": {
      "name": "python3",
      "display_name": "Python 3"
    },
    "accelerator": "GPU"
  },
  "cells": [
    {
      "cell_type": "markdown",
      "metadata": {
        "id": "view-in-github",
        "colab_type": "text"
      },
      "source": [
        "<a href=\"https://colab.research.google.com/github/ShaunakSen/Contextual-hyperlinks/blob/master/Dataset_extraction_%2B_scraping.ipynb\" target=\"_parent\"><img src=\"https://colab.research.google.com/assets/colab-badge.svg\" alt=\"Open In Colab\"/></a>"
      ]
    },
    {
      "cell_type": "code",
      "metadata": {
        "id": "7ggv6C6fUpQZ",
        "colab_type": "code",
        "outputId": "3a6e67e5-e992-4e6a-e955-24a86ab80c5d",
        "colab": {
          "base_uri": "https://localhost:8080/",
          "height": 301
        }
      },
      "source": [
        "!wget https://github.com/google-research-datasets/wiki-links/raw/master/data-00001.gz"
      ],
      "execution_count": 0,
      "outputs": [
        {
          "output_type": "stream",
          "text": [
            "--2019-08-18 13:16:32--  https://github.com/google-research-datasets/wiki-links/raw/master/data-00001.gz\n",
            "Resolving github.com (github.com)... 140.82.113.4\n",
            "Connecting to github.com (github.com)|140.82.113.4|:443... connected.\n",
            "HTTP request sent, awaiting response... 302 Found\n",
            "Location: https://raw.githubusercontent.com/google-research-datasets/wiki-links/master/data-00001.gz [following]\n",
            "--2019-08-18 13:16:33--  https://raw.githubusercontent.com/google-research-datasets/wiki-links/master/data-00001.gz\n",
            "Resolving raw.githubusercontent.com (raw.githubusercontent.com)... 151.101.0.133, 151.101.64.133, 151.101.128.133, ...\n",
            "Connecting to raw.githubusercontent.com (raw.githubusercontent.com)|151.101.0.133|:443... connected.\n",
            "HTTP request sent, awaiting response... 200 OK\n",
            "Length: 17111634 (16M) [application/octet-stream]\n",
            "Saving to: ‘data-00001.gz’\n",
            "\n",
            "data-00001.gz       100%[===================>]  16.32M   101MB/s    in 0.2s    \n",
            "\n",
            "2019-08-18 13:16:34 (101 MB/s) - ‘data-00001.gz’ saved [17111634/17111634]\n",
            "\n"
          ],
          "name": "stdout"
        }
      ]
    },
    {
      "cell_type": "code",
      "metadata": {
        "id": "BSkuVcajTReQ",
        "colab_type": "code",
        "colab": {}
      },
      "source": [
        "import urllib.request\n",
        "import os\n",
        "import zipfile\n",
        "import re\n",
        "\n",
        "import requests\n",
        "from bs4 import BeautifulSoup\n",
        "\n",
        "import nltk\n",
        "import string"
      ],
      "execution_count": 0,
      "outputs": []
    },
    {
      "cell_type": "code",
      "metadata": {
        "id": "Fy3nlkXJot_j",
        "colab_type": "code",
        "outputId": "0b2a82a6-9381-4ca8-a628-b85b4dd9cf7c",
        "colab": {
          "base_uri": "https://localhost:8080/",
          "height": 1000
        }
      },
      "source": [
        "!python -m nltk.downloader all"
      ],
      "execution_count": 2,
      "outputs": [
        {
          "output_type": "stream",
          "text": [
            "/usr/lib/python3.6/runpy.py:125: RuntimeWarning: 'nltk.downloader' found in sys.modules after import of package 'nltk', but prior to execution of 'nltk.downloader'; this may result in unpredictable behaviour\n",
            "  warn(RuntimeWarning(msg))\n",
            "[nltk_data] Downloading collection 'all'\n",
            "[nltk_data]    | \n",
            "[nltk_data]    | Downloading package abc to /root/nltk_data...\n",
            "[nltk_data]    |   Unzipping corpora/abc.zip.\n",
            "[nltk_data]    | Downloading package alpino to /root/nltk_data...\n",
            "[nltk_data]    |   Unzipping corpora/alpino.zip.\n",
            "[nltk_data]    | Downloading package biocreative_ppi to\n",
            "[nltk_data]    |     /root/nltk_data...\n",
            "[nltk_data]    |   Unzipping corpora/biocreative_ppi.zip.\n",
            "[nltk_data]    | Downloading package brown to /root/nltk_data...\n",
            "[nltk_data]    |   Unzipping corpora/brown.zip.\n",
            "[nltk_data]    | Downloading package brown_tei to /root/nltk_data...\n",
            "[nltk_data]    |   Unzipping corpora/brown_tei.zip.\n",
            "[nltk_data]    | Downloading package cess_cat to /root/nltk_data...\n",
            "[nltk_data]    |   Unzipping corpora/cess_cat.zip.\n",
            "[nltk_data]    | Downloading package cess_esp to /root/nltk_data...\n",
            "[nltk_data]    |   Unzipping corpora/cess_esp.zip.\n",
            "[nltk_data]    | Downloading package chat80 to /root/nltk_data...\n",
            "[nltk_data]    |   Unzipping corpora/chat80.zip.\n",
            "[nltk_data]    | Downloading package city_database to\n",
            "[nltk_data]    |     /root/nltk_data...\n",
            "[nltk_data]    |   Unzipping corpora/city_database.zip.\n",
            "[nltk_data]    | Downloading package cmudict to /root/nltk_data...\n",
            "[nltk_data]    |   Unzipping corpora/cmudict.zip.\n",
            "[nltk_data]    | Downloading package comparative_sentences to\n",
            "[nltk_data]    |     /root/nltk_data...\n",
            "[nltk_data]    |   Unzipping corpora/comparative_sentences.zip.\n",
            "[nltk_data]    | Downloading package comtrans to /root/nltk_data...\n",
            "[nltk_data]    | Downloading package conll2000 to /root/nltk_data...\n",
            "[nltk_data]    |   Unzipping corpora/conll2000.zip.\n",
            "[nltk_data]    | Downloading package conll2002 to /root/nltk_data...\n",
            "[nltk_data]    |   Unzipping corpora/conll2002.zip.\n",
            "[nltk_data]    | Downloading package conll2007 to /root/nltk_data...\n",
            "[nltk_data]    | Downloading package crubadan to /root/nltk_data...\n",
            "[nltk_data]    |   Unzipping corpora/crubadan.zip.\n",
            "[nltk_data]    | Downloading package dependency_treebank to\n",
            "[nltk_data]    |     /root/nltk_data...\n",
            "[nltk_data]    |   Unzipping corpora/dependency_treebank.zip.\n",
            "[nltk_data]    | Downloading package dolch to /root/nltk_data...\n",
            "[nltk_data]    |   Unzipping corpora/dolch.zip.\n",
            "[nltk_data]    | Downloading package europarl_raw to\n",
            "[nltk_data]    |     /root/nltk_data...\n",
            "[nltk_data]    |   Unzipping corpora/europarl_raw.zip.\n",
            "[nltk_data]    | Downloading package floresta to /root/nltk_data...\n",
            "[nltk_data]    |   Unzipping corpora/floresta.zip.\n",
            "[nltk_data]    | Downloading package framenet_v15 to\n",
            "[nltk_data]    |     /root/nltk_data...\n",
            "[nltk_data]    |   Unzipping corpora/framenet_v15.zip.\n",
            "[nltk_data]    | Downloading package framenet_v17 to\n",
            "[nltk_data]    |     /root/nltk_data...\n",
            "[nltk_data]    |   Unzipping corpora/framenet_v17.zip.\n",
            "[nltk_data]    | Downloading package gazetteers to /root/nltk_data...\n",
            "[nltk_data]    |   Unzipping corpora/gazetteers.zip.\n",
            "[nltk_data]    | Downloading package genesis to /root/nltk_data...\n",
            "[nltk_data]    |   Unzipping corpora/genesis.zip.\n",
            "[nltk_data]    | Downloading package gutenberg to /root/nltk_data...\n",
            "[nltk_data]    |   Unzipping corpora/gutenberg.zip.\n",
            "[nltk_data]    | Downloading package ieer to /root/nltk_data...\n",
            "[nltk_data]    |   Unzipping corpora/ieer.zip.\n",
            "[nltk_data]    | Downloading package inaugural to /root/nltk_data...\n",
            "[nltk_data]    |   Unzipping corpora/inaugural.zip.\n",
            "[nltk_data]    | Downloading package indian to /root/nltk_data...\n",
            "[nltk_data]    |   Unzipping corpora/indian.zip.\n",
            "[nltk_data]    | Downloading package jeita to /root/nltk_data...\n",
            "[nltk_data]    | Downloading package kimmo to /root/nltk_data...\n",
            "[nltk_data]    |   Unzipping corpora/kimmo.zip.\n",
            "[nltk_data]    | Downloading package knbc to /root/nltk_data...\n",
            "[nltk_data]    | Downloading package lin_thesaurus to\n",
            "[nltk_data]    |     /root/nltk_data...\n",
            "[nltk_data]    |   Unzipping corpora/lin_thesaurus.zip.\n",
            "[nltk_data]    | Downloading package mac_morpho to /root/nltk_data...\n",
            "[nltk_data]    |   Unzipping corpora/mac_morpho.zip.\n",
            "[nltk_data]    | Downloading package machado to /root/nltk_data...\n",
            "[nltk_data]    | Downloading package masc_tagged to /root/nltk_data...\n",
            "[nltk_data]    | Downloading package moses_sample to\n",
            "[nltk_data]    |     /root/nltk_data...\n",
            "[nltk_data]    |   Unzipping models/moses_sample.zip.\n",
            "[nltk_data]    | Downloading package movie_reviews to\n",
            "[nltk_data]    |     /root/nltk_data...\n",
            "[nltk_data]    |   Unzipping corpora/movie_reviews.zip.\n",
            "[nltk_data]    | Downloading package names to /root/nltk_data...\n",
            "[nltk_data]    |   Unzipping corpora/names.zip.\n",
            "[nltk_data]    | Downloading package nombank.1.0 to /root/nltk_data...\n",
            "[nltk_data]    | Downloading package nps_chat to /root/nltk_data...\n",
            "[nltk_data]    |   Unzipping corpora/nps_chat.zip.\n",
            "[nltk_data]    | Downloading package omw to /root/nltk_data...\n",
            "[nltk_data]    |   Unzipping corpora/omw.zip.\n",
            "[nltk_data]    | Downloading package opinion_lexicon to\n",
            "[nltk_data]    |     /root/nltk_data...\n",
            "[nltk_data]    |   Unzipping corpora/opinion_lexicon.zip.\n",
            "[nltk_data]    | Downloading package paradigms to /root/nltk_data...\n",
            "[nltk_data]    |   Unzipping corpora/paradigms.zip.\n",
            "[nltk_data]    | Downloading package pil to /root/nltk_data...\n",
            "[nltk_data]    |   Unzipping corpora/pil.zip.\n",
            "[nltk_data]    | Downloading package pl196x to /root/nltk_data...\n",
            "[nltk_data]    |   Unzipping corpora/pl196x.zip.\n",
            "[nltk_data]    | Downloading package ppattach to /root/nltk_data...\n",
            "[nltk_data]    |   Unzipping corpora/ppattach.zip.\n",
            "[nltk_data]    | Downloading package problem_reports to\n",
            "[nltk_data]    |     /root/nltk_data...\n",
            "[nltk_data]    |   Unzipping corpora/problem_reports.zip.\n",
            "[nltk_data]    | Downloading package propbank to /root/nltk_data...\n",
            "[nltk_data]    | Downloading package ptb to /root/nltk_data...\n",
            "[nltk_data]    |   Unzipping corpora/ptb.zip.\n",
            "[nltk_data]    | Downloading package product_reviews_1 to\n",
            "[nltk_data]    |     /root/nltk_data...\n",
            "[nltk_data]    |   Unzipping corpora/product_reviews_1.zip.\n",
            "[nltk_data]    | Downloading package product_reviews_2 to\n",
            "[nltk_data]    |     /root/nltk_data...\n",
            "[nltk_data]    |   Unzipping corpora/product_reviews_2.zip.\n",
            "[nltk_data]    | Downloading package pros_cons to /root/nltk_data...\n",
            "[nltk_data]    |   Unzipping corpora/pros_cons.zip.\n",
            "[nltk_data]    | Downloading package qc to /root/nltk_data...\n",
            "[nltk_data]    |   Unzipping corpora/qc.zip.\n",
            "[nltk_data]    | Downloading package reuters to /root/nltk_data...\n",
            "[nltk_data]    | Downloading package rte to /root/nltk_data...\n",
            "[nltk_data]    |   Unzipping corpora/rte.zip.\n",
            "[nltk_data]    | Downloading package semcor to /root/nltk_data...\n",
            "[nltk_data]    | Downloading package senseval to /root/nltk_data...\n",
            "[nltk_data]    |   Unzipping corpora/senseval.zip.\n",
            "[nltk_data]    | Downloading package sentiwordnet to\n",
            "[nltk_data]    |     /root/nltk_data...\n",
            "[nltk_data]    |   Unzipping corpora/sentiwordnet.zip.\n",
            "[nltk_data]    | Downloading package sentence_polarity to\n",
            "[nltk_data]    |     /root/nltk_data...\n",
            "[nltk_data]    |   Unzipping corpora/sentence_polarity.zip.\n",
            "[nltk_data]    | Downloading package shakespeare to /root/nltk_data...\n",
            "[nltk_data]    |   Unzipping corpora/shakespeare.zip.\n",
            "[nltk_data]    | Downloading package sinica_treebank to\n",
            "[nltk_data]    |     /root/nltk_data...\n",
            "[nltk_data]    |   Unzipping corpora/sinica_treebank.zip.\n",
            "[nltk_data]    | Downloading package smultron to /root/nltk_data...\n",
            "[nltk_data]    |   Unzipping corpora/smultron.zip.\n",
            "[nltk_data]    | Downloading package state_union to /root/nltk_data...\n",
            "[nltk_data]    |   Unzipping corpora/state_union.zip.\n",
            "[nltk_data]    | Downloading package stopwords to /root/nltk_data...\n",
            "[nltk_data]    |   Unzipping corpora/stopwords.zip.\n",
            "[nltk_data]    | Downloading package subjectivity to\n",
            "[nltk_data]    |     /root/nltk_data...\n",
            "[nltk_data]    |   Unzipping corpora/subjectivity.zip.\n",
            "[nltk_data]    | Downloading package swadesh to /root/nltk_data...\n",
            "[nltk_data]    |   Unzipping corpora/swadesh.zip.\n",
            "[nltk_data]    | Downloading package switchboard to /root/nltk_data...\n",
            "[nltk_data]    |   Unzipping corpora/switchboard.zip.\n",
            "[nltk_data]    | Downloading package timit to /root/nltk_data...\n",
            "[nltk_data]    |   Unzipping corpora/timit.zip.\n",
            "[nltk_data]    | Downloading package toolbox to /root/nltk_data...\n",
            "[nltk_data]    |   Unzipping corpora/toolbox.zip.\n",
            "[nltk_data]    | Downloading package treebank to /root/nltk_data...\n",
            "[nltk_data]    |   Unzipping corpora/treebank.zip.\n",
            "[nltk_data]    | Downloading package twitter_samples to\n",
            "[nltk_data]    |     /root/nltk_data...\n",
            "[nltk_data]    |   Unzipping corpora/twitter_samples.zip.\n",
            "[nltk_data]    | Downloading package udhr to /root/nltk_data...\n",
            "[nltk_data]    |   Unzipping corpora/udhr.zip.\n",
            "[nltk_data]    | Downloading package udhr2 to /root/nltk_data...\n",
            "[nltk_data]    |   Unzipping corpora/udhr2.zip.\n",
            "[nltk_data]    | Downloading package unicode_samples to\n",
            "[nltk_data]    |     /root/nltk_data...\n",
            "[nltk_data]    |   Unzipping corpora/unicode_samples.zip.\n",
            "[nltk_data]    | Downloading package universal_treebanks_v20 to\n",
            "[nltk_data]    |     /root/nltk_data...\n",
            "[nltk_data]    | Downloading package verbnet to /root/nltk_data...\n",
            "[nltk_data]    |   Unzipping corpora/verbnet.zip.\n",
            "[nltk_data]    | Downloading package verbnet3 to /root/nltk_data...\n",
            "[nltk_data]    |   Unzipping corpora/verbnet3.zip.\n",
            "[nltk_data]    | Downloading package webtext to /root/nltk_data...\n",
            "[nltk_data]    |   Unzipping corpora/webtext.zip.\n",
            "[nltk_data]    | Downloading package wordnet to /root/nltk_data...\n",
            "[nltk_data]    |   Unzipping corpora/wordnet.zip.\n",
            "[nltk_data]    | Downloading package wordnet_ic to /root/nltk_data...\n",
            "[nltk_data]    |   Unzipping corpora/wordnet_ic.zip.\n",
            "[nltk_data]    | Downloading package words to /root/nltk_data...\n",
            "[nltk_data]    |   Unzipping corpora/words.zip.\n",
            "[nltk_data]    | Downloading package ycoe to /root/nltk_data...\n",
            "[nltk_data]    |   Unzipping corpora/ycoe.zip.\n",
            "[nltk_data]    | Downloading package rslp to /root/nltk_data...\n",
            "[nltk_data]    |   Unzipping stemmers/rslp.zip.\n",
            "[nltk_data]    | Downloading package maxent_treebank_pos_tagger to\n",
            "[nltk_data]    |     /root/nltk_data...\n",
            "[nltk_data]    |   Unzipping taggers/maxent_treebank_pos_tagger.zip.\n",
            "[nltk_data]    | Downloading package universal_tagset to\n",
            "[nltk_data]    |     /root/nltk_data...\n",
            "[nltk_data]    |   Unzipping taggers/universal_tagset.zip.\n",
            "[nltk_data]    | Downloading package maxent_ne_chunker to\n",
            "[nltk_data]    |     /root/nltk_data...\n",
            "[nltk_data]    |   Unzipping chunkers/maxent_ne_chunker.zip.\n",
            "[nltk_data]    | Downloading package punkt to /root/nltk_data...\n",
            "[nltk_data]    |   Unzipping tokenizers/punkt.zip.\n",
            "[nltk_data]    | Downloading package book_grammars to\n",
            "[nltk_data]    |     /root/nltk_data...\n",
            "[nltk_data]    |   Unzipping grammars/book_grammars.zip.\n",
            "[nltk_data]    | Downloading package sample_grammars to\n",
            "[nltk_data]    |     /root/nltk_data...\n",
            "[nltk_data]    |   Unzipping grammars/sample_grammars.zip.\n",
            "[nltk_data]    | Downloading package spanish_grammars to\n",
            "[nltk_data]    |     /root/nltk_data...\n",
            "[nltk_data]    |   Unzipping grammars/spanish_grammars.zip.\n",
            "[nltk_data]    | Downloading package basque_grammars to\n",
            "[nltk_data]    |     /root/nltk_data...\n",
            "[nltk_data]    |   Unzipping grammars/basque_grammars.zip.\n",
            "[nltk_data]    | Downloading package large_grammars to\n",
            "[nltk_data]    |     /root/nltk_data...\n",
            "[nltk_data]    |   Unzipping grammars/large_grammars.zip.\n",
            "[nltk_data]    | Downloading package tagsets to /root/nltk_data...\n",
            "[nltk_data]    |   Unzipping help/tagsets.zip.\n",
            "[nltk_data]    | Downloading package snowball_data to\n",
            "[nltk_data]    |     /root/nltk_data...\n",
            "[nltk_data]    | Downloading package bllip_wsj_no_aux to\n",
            "[nltk_data]    |     /root/nltk_data...\n",
            "[nltk_data]    |   Unzipping models/bllip_wsj_no_aux.zip.\n",
            "[nltk_data]    | Downloading package word2vec_sample to\n",
            "[nltk_data]    |     /root/nltk_data...\n",
            "[nltk_data]    |   Unzipping models/word2vec_sample.zip.\n",
            "[nltk_data]    | Downloading package panlex_swadesh to\n",
            "[nltk_data]    |     /root/nltk_data...\n",
            "[nltk_data]    | Downloading package mte_teip5 to /root/nltk_data...\n",
            "[nltk_data]    |   Unzipping corpora/mte_teip5.zip.\n",
            "[nltk_data]    | Downloading package averaged_perceptron_tagger to\n",
            "[nltk_data]    |     /root/nltk_data...\n",
            "[nltk_data]    |   Unzipping taggers/averaged_perceptron_tagger.zip.\n",
            "[nltk_data]    | Downloading package averaged_perceptron_tagger_ru to\n",
            "[nltk_data]    |     /root/nltk_data...\n",
            "[nltk_data]    |   Unzipping\n",
            "[nltk_data]    |       taggers/averaged_perceptron_tagger_ru.zip.\n",
            "[nltk_data]    | Downloading package perluniprops to\n",
            "[nltk_data]    |     /root/nltk_data...\n",
            "[nltk_data]    |   Unzipping misc/perluniprops.zip.\n",
            "[nltk_data]    | Downloading package nonbreaking_prefixes to\n",
            "[nltk_data]    |     /root/nltk_data...\n",
            "[nltk_data]    |   Unzipping corpora/nonbreaking_prefixes.zip.\n",
            "[nltk_data]    | Downloading package vader_lexicon to\n",
            "[nltk_data]    |     /root/nltk_data...\n",
            "[nltk_data]    | Downloading package porter_test to /root/nltk_data...\n",
            "[nltk_data]    |   Unzipping stemmers/porter_test.zip.\n",
            "[nltk_data]    | Downloading package wmt15_eval to /root/nltk_data...\n",
            "[nltk_data]    |   Unzipping models/wmt15_eval.zip.\n",
            "[nltk_data]    | Downloading package mwa_ppdb to /root/nltk_data...\n",
            "[nltk_data]    |   Unzipping misc/mwa_ppdb.zip.\n",
            "[nltk_data]    | \n",
            "[nltk_data]  Done downloading collection all\n"
          ],
          "name": "stdout"
        }
      ]
    },
    {
      "cell_type": "code",
      "metadata": {
        "id": "bZ6tlZdHT1Rp",
        "colab_type": "code",
        "colab": {}
      },
      "source": [
        "!gzip -d /content/data-00001.gz"
      ],
      "execution_count": 0,
      "outputs": []
    },
    {
      "cell_type": "code",
      "metadata": {
        "id": "xCuoNj3Fh-mp",
        "colab_type": "code",
        "outputId": "5bce1a23-7f7a-4a41-8922-82895c2b420b",
        "colab": {
          "resources": {
            "http://localhost:8080/nbextensions/google.colab/files.js": {
              "data": "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",
              "ok": true,
              "headers": [
                [
                  "content-type",
                  "application/javascript"
                ]
              ],
              "status": 200,
              "status_text": ""
            }
          },
          "base_uri": "https://localhost:8080/",
          "height": 72
        }
      },
      "source": [
        "from google.colab import files\n",
        "\n",
        "uploaded = files.upload()"
      ],
      "execution_count": 4,
      "outputs": [
        {
          "output_type": "display_data",
          "data": {
            "text/html": [
              "\n",
              "     <input type=\"file\" id=\"files-8dd90936-2852-4c63-be36-13aba5891c66\" name=\"files[]\" multiple disabled />\n",
              "     <output id=\"result-8dd90936-2852-4c63-be36-13aba5891c66\">\n",
              "      Upload widget is only available when the cell has been executed in the\n",
              "      current browser session. Please rerun this cell to enable.\n",
              "      </output>\n",
              "      <script src=\"/nbextensions/google.colab/files.js\"></script> "
            ],
            "text/plain": [
              "<IPython.core.display.HTML object>"
            ]
          },
          "metadata": {
            "tags": []
          }
        },
        {
          "output_type": "stream",
          "text": [
            "Saving data-00001 to data-00001\n"
          ],
          "name": "stdout"
        }
      ]
    },
    {
      "cell_type": "code",
      "metadata": {
        "id": "EY3e0WaHbjn6",
        "colab_type": "code",
        "colab": {}
      },
      "source": [
        "f = open('./data-00001', 'r')\n",
        "\n",
        "lines = f.readlines()"
      ],
      "execution_count": 0,
      "outputs": []
    },
    {
      "cell_type": "code",
      "metadata": {
        "id": "fwSNT2PwdsRY",
        "colab_type": "code",
        "outputId": "19c6b7b1-4e44-49ff-9a36-23946be35fdb",
        "colab": {
          "base_uri": "https://localhost:8080/",
          "height": 33
        }
      },
      "source": [
        "def process_url(url):\n",
        "  \"\"\"\n",
        "  function to determine if to keep a URL or not\n",
        "  \"\"\"\n",
        "  # check start of url - http or https\n",
        "  if not url.startswith(\"http\"):\n",
        "    return False\n",
        "  # check first characters and extensions\n",
        "  if re.match(pattern='(http|https)://\\w.*', string=url) is None or url.endswith(\"pdf\") or url.endswith(\"doc\") or url.endswith(\"docx\"):\n",
        "    return False\n",
        "  # all passed return True\n",
        "  return True\n",
        "\n",
        "total_urls = 0 # etsimate of total source urls in the dataset: may contain duplicates \n",
        "\n",
        "for line in lines:\n",
        "  if (line.startswith(\"URL\")):\n",
        "    url = line.split()[1]\n",
        "    # check if URL valid\n",
        "    if process_url(url):\n",
        "      total_urls+=1\n",
        "\n",
        "\n",
        "print (\"Total URLs:\", total_urls)"
      ],
      "execution_count": 6,
      "outputs": [
        {
          "output_type": "stream",
          "text": [
            "Total URLs: 99494\n"
          ],
          "name": "stdout"
        }
      ]
    },
    {
      "cell_type": "markdown",
      "metadata": {
        "id": "2TC-t9allNKa",
        "colab_type": "text"
      },
      "source": [
        "### Build Dataset\n",
        "\n",
        "Dataset format:\n",
        "\n",
        "```\n",
        "[[mention_text, source, target], ...]\n",
        "```"
      ]
    },
    {
      "cell_type": "code",
      "metadata": {
        "id": "Hj4ckXAleE9V",
        "colab_type": "code",
        "colab": {}
      },
      "source": [
        "# [[mention_text, source, target], ...]\n",
        "\n",
        "dataset = []\n",
        "\n",
        "for i in range(len(lines)):\n",
        "  if (lines[i].startswith(\"URL\")):\n",
        "    url = lines[i].split()[1]\n",
        "    # check if URL valid\n",
        "    if process_url(url):\n",
        "      # look at the MENTION tags\n",
        "      curr_idx = i+1\n",
        "      next_line = lines[curr_idx]\n",
        "      while next_line.startswith(\"MENTION\"):\n",
        "        # MENTION detected\n",
        "        # split by ' '\n",
        "        mention_text = next_line.split()\n",
        "        # get mention tokens\n",
        "        mention_token = \" \".join(mention_text[1:len(mention_text)-2])\n",
        "        # get target link\n",
        "        target = mention_text[len(mention_text)-1]\n",
        "        # append in form: [mention_text, source, target]\n",
        "        dataset.append([mention_token, url, target])\n",
        "        curr_idx += 1\n",
        "        next_line = lines[curr_idx]\n"
      ],
      "execution_count": 0,
      "outputs": []
    },
    {
      "cell_type": "code",
      "metadata": {
        "id": "WB_lsA5LHl4K",
        "colab_type": "code",
        "outputId": "6361beb1-f85f-4fab-c5c7-b8b2d64593b7",
        "colab": {
          "base_uri": "https://localhost:8080/",
          "height": 472
        }
      },
      "source": [
        "dataset[:10]"
      ],
      "execution_count": 8,
      "outputs": [
        {
          "output_type": "execute_result",
          "data": {
            "text/plain": [
              "[['Los Angeles Philharmonic',\n",
              "  'http://0-m-f-g.blogspot.com/2010/05/walt-disney-concert-hall.html',\n",
              "  'http://en.wikipedia.org/wiki/Los_Angeles_Philharmonic'],\n",
              " ['Los Angeles Master Chorale',\n",
              "  'http://0-m-f-g.blogspot.com/2010/05/walt-disney-concert-hall.html',\n",
              "  'http://en.wikipedia.org/wiki/Los_Angeles_Master_Chorale'],\n",
              " ['Walt Disney',\n",
              "  'http://0-m-f-g.blogspot.com/2010/05/walt-disney-concert-hall.html',\n",
              "  'http://en.wikipedia.org/wiki/Walt_Disney'],\n",
              " ['Evo',\n",
              "  'http://0-one.org/2012/07/14/ouya-99-android-game-console/',\n",
              "  'http://en.wikipedia.org/wiki/EVO_Smart_Console'],\n",
              " ['Groupthink',\n",
              "  'http://0.yogins.com/2012/01/30/groupthink-and-centralized-bathrooms-with-knowledge-spillovers/',\n",
              "  'http://en.wikipedia.org/wiki/Groupthink'],\n",
              " ['Knowledge Spillovers',\n",
              "  'http://0.yogins.com/2012/01/30/groupthink-and-centralized-bathrooms-with-knowledge-spillovers/',\n",
              "  'http://en.wikipedia.org/wiki/Knowledge_spillover'],\n",
              " ['Latin',\n",
              "  'http://00000000.ca/',\n",
              "  'http://en.wikipedia.org/wiki/Latin_language'],\n",
              " ['knowledge',\n",
              "  'http://00000000.ca/',\n",
              "  'http://en.wikipedia.org/wiki/Knowledge'],\n",
              " ['universe', 'http://00000000.ca/', 'http://en.wikipedia.org/wiki/Universe'],\n",
              " ['Aristotle',\n",
              "  'http://00000000.ca/',\n",
              "  'http://en.wikipedia.org/wiki/Aristotle']]"
            ]
          },
          "metadata": {
            "tags": []
          },
          "execution_count": 8
        }
      ]
    },
    {
      "cell_type": "code",
      "metadata": {
        "id": "MATKjUpbHp0f",
        "colab_type": "code",
        "outputId": "eec0ee8a-daf0-4bb8-b8af-3c898cff9043",
        "colab": {
          "base_uri": "https://localhost:8080/",
          "height": 33
        }
      },
      "source": [
        "print (len(dataset))"
      ],
      "execution_count": 9,
      "outputs": [
        {
          "output_type": "stream",
          "text": [
            "373961\n"
          ],
          "name": "stdout"
        }
      ]
    },
    {
      "cell_type": "code",
      "metadata": {
        "id": "F8RfXo4IHuXp",
        "colab_type": "code",
        "outputId": "421f6493-91e7-4026-bbf1-c786b6146121",
        "colab": {
          "base_uri": "https://localhost:8080/",
          "height": 33
        }
      },
      "source": [
        "print (\"MENTIONs per link:\", len(dataset)/total_urls)"
      ],
      "execution_count": 10,
      "outputs": [
        {
          "output_type": "stream",
          "text": [
            "MENTIONs per link: 3.7586286610247854\n"
          ],
          "name": "stdout"
        }
      ]
    },
    {
      "cell_type": "code",
      "metadata": {
        "id": "_K8I9TNMcTpi",
        "colab_type": "code",
        "outputId": "762aa519-4937-44dc-cc09-37b5b4e75a01",
        "colab": {
          "base_uri": "https://localhost:8080/",
          "height": 33
        }
      },
      "source": [
        "# check how many have same source and target links\n",
        "\n",
        "\"\"\"\n",
        "source_target_pairs = []\n",
        "\n",
        "for x in range(len(dataset)):\n",
        "  if [dataset[x][1], dataset[x][2]] not in source_target_pairs:\n",
        "    source_target_pairs.append([dataset[x][1], dataset[x][2]])\n",
        "\n",
        "print (len(source_target_pairs))\n",
        "\"\"\""
      ],
      "execution_count": 0,
      "outputs": [
        {
          "output_type": "stream",
          "text": [
            "347867\n"
          ],
          "name": "stdout"
        }
      ]
    },
    {
      "cell_type": "code",
      "metadata": {
        "id": "uK0amJw6kwRo",
        "colab_type": "code",
        "outputId": "798c3d3e-57f3-425d-cbac-3f03d4e163b3",
        "colab": {
          "base_uri": "https://localhost:8080/",
          "height": 33
        }
      },
      "source": [
        "347867/373961"
      ],
      "execution_count": 0,
      "outputs": [
        {
          "output_type": "execute_result",
          "data": {
            "text/plain": [
              "0.9302226702784515"
            ]
          },
          "metadata": {
            "tags": []
          },
          "execution_count": 14
        }
      ]
    },
    {
      "cell_type": "markdown",
      "metadata": {
        "id": "ifs_b7g5kvfr",
        "colab_type": "text"
      },
      "source": [
        "Over 93% of source-target pairs are unique. So we do not have to fiilter through the list to remove duplicates"
      ]
    },
    {
      "cell_type": "markdown",
      "metadata": {
        "id": "GrOPZc6uCDz0",
        "colab_type": "text"
      },
      "source": [
        "We have now created a dataset for the file as:\n",
        "\n",
        "```\n",
        "[[MENTION_TOKEN, SOURCE, TARGET], ...]\n",
        "```\n",
        "\n",
        "Next step is scraping for information about SOURCE and TARGET and building a new dataset of form:\n",
        "\n",
        "```\n",
        "[SOURCE_TEXT...MENTION_TOKEN,TARGET_TEXT...],\n",
        "<special_tokens>\n",
        "[SOURCE_TEXT...MENTION_TOKEN,TARGET_TEXT...],\n",
        "...\n",
        "```\n"
      ]
    },
    {
      "cell_type": "code",
      "metadata": {
        "id": "Qpd_BHmJoC7P",
        "colab_type": "code",
        "colab": {}
      },
      "source": [
        "def textProcessingPipeline(text):\n",
        "  \"\"\"\n",
        "  preprocess text to get a window of words around the <mention>\n",
        "  1. split into words\n",
        "  2. convert to lowercase\n",
        "  3. remove punctuation\n",
        "  4. remove stopwords\n",
        "  \"\"\"\n",
        "  tokens = nltk.tokenize.word_tokenize(text)\n",
        "  tokens = [w.lower() for w in tokens]\n",
        "  # maketrans: If three arguments are passed, each character in the third argument is mapped to None\n",
        "  table = str.maketrans('','',string.punctuation)\n",
        "  punc_removed = [w.translate(table) for w in tokens]\n",
        "  # remove remaining tokens that are not alphabetic\n",
        "  punc_removed = [word for word in punc_removed if word.isalpha()]\n",
        "\n",
        "  stopwords = set(nltk.corpus.stopwords.words('english'))\n",
        "\n",
        "  stopwords_removed = [word for word in punc_removed if word not in stopwords]\n",
        "\n",
        "  return stopwords_removed"
      ],
      "execution_count": 0,
      "outputs": []
    },
    {
      "cell_type": "code",
      "metadata": {
        "id": "gzF2erLqkslR",
        "colab_type": "code",
        "outputId": "3106882d-6316-421b-9354-20ae2c0d5d54",
        "colab": {
          "base_uri": "https://localhost:8080/",
          "height": 33
        }
      },
      "source": [
        "mention_tokens = [data[0] for data in dataset]\n",
        "source_links = [data[1] for data in dataset]\n",
        "target_links = [data[2] for data in dataset]\n",
        "\n",
        "print (len(mention_tokens)==len(source_links) == len(target_links) ==len(dataset))\n"
      ],
      "execution_count": 20,
      "outputs": [
        {
          "output_type": "stream",
          "text": [
            "True\n"
          ],
          "name": "stdout"
        }
      ]
    },
    {
      "cell_type": "code",
      "metadata": {
        "id": "KjsurHOElaS2",
        "colab_type": "code",
        "outputId": "89a36ac9-c39d-42cd-e47d-83e8ba2c86c3",
        "colab": {
          "base_uri": "https://localhost:8080/",
          "height": 390
        }
      },
      "source": [
        "for idx in range(len(mention_tokens)):\n",
        "  try:\n",
        "    r  = requests.get(source_links[idx])\n",
        "\n",
        "    data = r.text\n",
        "\n",
        "    soup = BeautifulSoup(data)\n",
        "  except:\n",
        "    print ('Error for idx:', idx, 'Link:', source_links[idx])\n",
        "    continue\n",
        "  if idx%100==0:\n",
        "    print (\"Done\", idx)"
      ],
      "execution_count": 0,
      "outputs": [
        {
          "output_type": "stream",
          "text": [
            "Done 0\n",
            "Error for idx: 3 Link: http://0-one.org/2012/07/14/ouya-99-android-game-console/\n",
            "Error for idx: 54 Link: http://010101.com.au/node/26\n",
            "Done 100\n",
            "Error for idx: 184 Link: http://02ad883.netsolhost.com/apologists.html\n",
            "Error for idx: 195 Link: http://02e134b.netsolhost.com/Blog/?paged=3\n",
            "Error for idx: 197 Link: http://02f5873.netsolhost.com/AllianceBattle/\n",
            "Error for idx: 198 Link: http://02f5873.netsolhost.com/AllianceBattle/\n",
            "Error for idx: 199 Link: http://02f5873.netsolhost.com/AllianceBattle/\n",
            "Error for idx: 200 Link: http://02f5873.netsolhost.com/AllianceBattle/\n",
            "Error for idx: 201 Link: http://02f5873.netsolhost.com/AllianceBattle/\n",
            "Error for idx: 289 Link: http://02mydafsoup-01.soup.io/tag/ipad\n",
            "Error for idx: 290 Link: http://02mydafsoup-01.soup.io/tag/ipad\n",
            "Error for idx: 291 Link: http://02mydafsoup-01.soup.io/tag/stratagem\n",
            "Error for idx: 292 Link: http://02mydafsoup-01.soup.io/tag/stratagem\n",
            "Error for idx: 293 Link: http://02mydafsoup-01.soup.io/tag/stratagem\n",
            "Error for idx: 299 Link: http://02varvara.wordpress.com/2008/03/02/page/2/\n",
            "Done 300\n",
            "Error for idx: 317 Link: http://02varvara.wordpress.com/2008/03/15/russia-awards-the-medal-of-aleksandr-pushkin-to-swedish-scholar/\n",
            "Error for idx: 320 Link: http://02varvara.wordpress.com/2008/03/15/russia-awards-the-medal-of-aleksandr-pushkin-to-swedish-scholar/\n",
            "Error for idx: 329 Link: http://02varvara.wordpress.com/2008/03/28/\n"
          ],
          "name": "stdout"
        }
      ]
    },
    {
      "cell_type": "code",
      "metadata": {
        "id": "r7EzBdH9llZK",
        "colab_type": "code",
        "colab": {
          "base_uri": "https://localhost:8080/",
          "height": 33
        },
        "outputId": "4e9d61cd-969e-4e90-cd57-7a3298418966"
      },
      "source": [
        "idx_to_check = 0\n",
        "\n",
        "r  = requests.get(source_links[idx_to_check])\n",
        "data = r.text\n",
        "soup = BeautifulSoup(data)\n",
        "\n",
        "matched_links = soup.find_all(name='a', attrs={'href': target_links[idx_to_check]})\n",
        "matched_link = None\n",
        "\n",
        "\n",
        "for link in matched_links:\n",
        "  if link.string.strip() == mention_tokens[idx_to_check]:\n",
        "    matched_link = link\n",
        "\n",
        "original_token = matched_link.string\n",
        "special_token = 'littlemini'\n",
        "matched_link.string = special_token\n",
        "original_token = str(original_token)\n",
        "\n",
        "parent = matched_link.parent\n",
        "\n",
        "text_corpus = []\n",
        "window_size = 50\n",
        "curr_window = 0\n",
        "token_found = False\n",
        "\n",
        "for text in parent.stripped_strings:\n",
        "  if token_found is True and curr_window >= window_size:\n",
        "    break \n",
        "  processed_text = textProcessingPipeline(text)\n",
        "  for word in processed_text:\n",
        "    if word == special_token:\n",
        "      token_found = True\n",
        "      word = original_token\n",
        "    text_corpus.append(word)\n",
        "    if token_found:\n",
        "      curr_window += 1\n",
        "\n",
        "\n",
        "      \n",
        "print (len(text_corpus))"
      ],
      "execution_count": 24,
      "outputs": [
        {
          "output_type": "stream",
          "text": [
            "68\n"
          ],
          "name": "stdout"
        }
      ]
    },
    {
      "cell_type": "code",
      "metadata": {
        "id": "oP2lpoCdoO2z",
        "colab_type": "code",
        "colab": {
          "base_uri": "https://localhost:8080/",
          "height": 33
        },
        "outputId": "3543e6fd-9385-442f-b25f-05bb48639948"
      },
      "source": [
        "r  = requests.get(target_links[idx_to_check])\n",
        "data = r.text\n",
        "soup = BeautifulSoup(data)\n",
        "\n",
        "heading = str(soup.find_all(name='h1', attrs={'id':'firstHeading'})[0].string)\n",
        "\n",
        "target_corpus = []\n",
        "paras = soup.find_all('p')\n",
        "curr_para_idx = 0\n",
        "curr_window = 0\n",
        "window_size = 50\n",
        "\n",
        "\n",
        "while curr_window < window_size and curr_para_idx < len(paras):\n",
        "  para_text = paras[curr_para_idx].stripped_strings\n",
        "  for text in para_text:\n",
        "      processed_text = textProcessingPipeline(text)\n",
        "      for word in processed_text:\n",
        "        if curr_window >= window_size:\n",
        "          break\n",
        "        target_corpus.append(word)\n",
        "        curr_window += 1\n",
        "  curr_para_idx += 1\n",
        "\n",
        "print (len(target_corpus))"
      ],
      "execution_count": 25,
      "outputs": [
        {
          "output_type": "stream",
          "text": [
            "50\n"
          ],
          "name": "stdout"
        }
      ]
    },
    {
      "cell_type": "code",
      "metadata": {
        "id": "fZ4SntSFbYoH",
        "colab_type": "code",
        "outputId": "dcbf09d8-7c14-4cba-9468-f16c349e6f68",
        "colab": {
          "base_uri": "https://localhost:8080/",
          "height": 472
        }
      },
      "source": [
        "dataset[:10]"
      ],
      "execution_count": 0,
      "outputs": [
        {
          "output_type": "execute_result",
          "data": {
            "text/plain": [
              "[['Los Angeles Philharmonic',\n",
              "  'http://0-m-f-g.blogspot.com/2010/05/walt-disney-concert-hall.html',\n",
              "  'http://en.wikipedia.org/wiki/Los_Angeles_Philharmonic'],\n",
              " ['Los Angeles Master Chorale',\n",
              "  'http://0-m-f-g.blogspot.com/2010/05/walt-disney-concert-hall.html',\n",
              "  'http://en.wikipedia.org/wiki/Los_Angeles_Master_Chorale'],\n",
              " ['Walt Disney',\n",
              "  'http://0-m-f-g.blogspot.com/2010/05/walt-disney-concert-hall.html',\n",
              "  'http://en.wikipedia.org/wiki/Walt_Disney'],\n",
              " ['Evo',\n",
              "  'http://0-one.org/2012/07/14/ouya-99-android-game-console/',\n",
              "  'http://en.wikipedia.org/wiki/EVO_Smart_Console'],\n",
              " ['Groupthink',\n",
              "  'http://0.yogins.com/2012/01/30/groupthink-and-centralized-bathrooms-with-knowledge-spillovers/',\n",
              "  'http://en.wikipedia.org/wiki/Groupthink'],\n",
              " ['Knowledge Spillovers',\n",
              "  'http://0.yogins.com/2012/01/30/groupthink-and-centralized-bathrooms-with-knowledge-spillovers/',\n",
              "  'http://en.wikipedia.org/wiki/Knowledge_spillover'],\n",
              " ['Latin',\n",
              "  'http://00000000.ca/',\n",
              "  'http://en.wikipedia.org/wiki/Latin_language'],\n",
              " ['knowledge',\n",
              "  'http://00000000.ca/',\n",
              "  'http://en.wikipedia.org/wiki/Knowledge'],\n",
              " ['universe', 'http://00000000.ca/', 'http://en.wikipedia.org/wiki/Universe'],\n",
              " ['Aristotle',\n",
              "  'http://00000000.ca/',\n",
              "  'http://en.wikipedia.org/wiki/Aristotle']]"
            ]
          },
          "metadata": {
            "tags": []
          },
          "execution_count": 15
        }
      ]
    },
    {
      "cell_type": "code",
      "metadata": {
        "id": "K8Y7C9nPj2aa",
        "colab_type": "code",
        "outputId": "781b1183-7c27-4956-8041-63c269ce82ba",
        "colab": {
          "base_uri": "https://localhost:8080/",
          "height": 657
        }
      },
      "source": [
        "def build_corpus(dataset, source_window_size, target_window_size, lower_limit=0, limit=0):\n",
        "  \"\"\"\n",
        "  [SOURCE_TEXT...MENTION_TOKEN,TARGET_TEXT...],\n",
        "  <special_tokens>\n",
        "  [SOURCE_TEXT...MENTION_TOKEN,TARGET_TEXT...],\n",
        "  ...\n",
        "  \"\"\"\n",
        "\n",
        "  final_corpus = []\n",
        "\n",
        "  mention_tokens = [data[0] for data in dataset]\n",
        "  source_links = [data[1] for data in dataset]\n",
        "  target_links = [data[2] for data in dataset]\n",
        "\n",
        "  for idx in range(lower_limit, limit):\n",
        "    # corpus for this idx\n",
        "    idx_corpus = []\n",
        "    # flags\n",
        "    source_ok, traget_ok = False, False\n",
        "\n",
        "    # ------------FOR SOURCE DATA SCRAPING------------\n",
        "    # establish connection + convert to soup\n",
        "    print (\"Accessing:\", source_links[idx])\n",
        "    r  = requests.get(source_links[idx])\n",
        "    data = r.text\n",
        "    soup = BeautifulSoup(data)\n",
        "\n",
        "    # find the correct link\n",
        "    matched_links = soup.find_all(name='a', attrs={'href': target_links[idx]})\n",
        "    matched_link = None\n",
        "\n",
        "    for link in matched_links:\n",
        "      if link.string.strip() == mention_tokens[idx]:\n",
        "        matched_link = link\n",
        "\n",
        "    # change the link text to a unique code, while saving the original text\n",
        "    original_token = matched_link.string\n",
        "    special_token = 'littlemini'\n",
        "    matched_link.string = special_token\n",
        "    original_token = str(original_token)\n",
        "\n",
        "    # get parent of matched link\n",
        "    parent = matched_link.parent\n",
        "\n",
        "    curr_window = 0\n",
        "\n",
        "    token_found = False\n",
        "\n",
        "    for text in parent.stripped_strings:\n",
        "      if token_found is True and curr_window >= source_window_size:\n",
        "        break \n",
        "      processed_text = textProcessingPipeline(text)\n",
        "      for word in processed_text:\n",
        "        if word == special_token:\n",
        "          token_found = True\n",
        "          word = original_token\n",
        "        idx_corpus.append(word)\n",
        "        if token_found:\n",
        "          curr_window += 1\n",
        "\n",
        "    # at this point the SOURCE TEXT as well as MENTION_TOKEN is stored in idx_corpus\n",
        "    # SOURCE OK - SET FLAG\n",
        "    if len(idx_corpus) > 0:\n",
        "      source_ok = True\n",
        "      source_len = len(idx_corpus)\n",
        "\n",
        "\n",
        "    # ------------FOR TARGET DATA SCRAPING------------\n",
        "\n",
        "    # establish connection + convert to soup\n",
        "    r  = requests.get(target_links[idx])\n",
        "    data = r.text\n",
        "    soup = BeautifulSoup(data)\n",
        "\n",
        "    # Get heading\n",
        "    heading = str(soup.find_all(name='h1', attrs={'id':'firstHeading'})[0].string)\n",
        "\n",
        "    # get all paras\n",
        "    paras = soup.find_all('p')\n",
        "    curr_para_idx = 0\n",
        "    curr_window = 0\n",
        "\n",
        "    # loop till we get the reqd words or till we run out of data\n",
        "    while curr_window < target_window_size and curr_para_idx < len(paras):\n",
        "      # get text in para\n",
        "      para_text = paras[curr_para_idx].stripped_strings\n",
        "      for text in para_text:\n",
        "          processed_text = textProcessingPipeline(text)\n",
        "          for word in processed_text:\n",
        "            if curr_window >= target_window_size:\n",
        "              break\n",
        "            idx_corpus.append(word)\n",
        "            curr_window += 1\n",
        "      curr_para_idx += 1\n",
        "\n",
        "    # at this point the TARGET TEXT stored in idx_corpus\n",
        "    # TARGET OK - SET FLAG\n",
        "    if len(idx_corpus) > source_len:\n",
        "      target_ok = True\n",
        "\n",
        "    if source_ok and target_ok:\n",
        "      final_corpus.append(idx_corpus)\n",
        "    else:\n",
        "      print ('ERROR: S:', source_links[idx], 'T:', target_links[idx])\n",
        "\n",
        "build_corpus(dataset, 50, 50, lower_limit=0, limit=100)"
      ],
      "execution_count": 0,
      "outputs": [
        {
          "output_type": "stream",
          "text": [
            "Accessing: http://0-m-f-g.blogspot.com/2010/05/walt-disney-concert-hall.html\n",
            "Accessing: http://0-m-f-g.blogspot.com/2010/05/walt-disney-concert-hall.html\n",
            "Accessing: http://0-m-f-g.blogspot.com/2010/05/walt-disney-concert-hall.html\n",
            "Accessing: http://0-one.org/2012/07/14/ouya-99-android-game-console/\n"
          ],
          "name": "stdout"
        },
        {
          "output_type": "error",
          "ename": "ConnectionError",
          "evalue": "ignored",
          "traceback": [
            "\u001b[0;31m---------------------------------------------------------------------------\u001b[0m",
            "\u001b[0;31mgaierror\u001b[0m                                  Traceback (most recent call last)",
            "\u001b[0;32m/usr/local/lib/python3.6/dist-packages/urllib3/connection.py\u001b[0m in \u001b[0;36m_new_conn\u001b[0;34m(self)\u001b[0m\n\u001b[1;32m    158\u001b[0m             conn = connection.create_connection(\n\u001b[0;32m--> 159\u001b[0;31m                 (self._dns_host, self.port), self.timeout, **extra_kw)\n\u001b[0m\u001b[1;32m    160\u001b[0m \u001b[0;34m\u001b[0m\u001b[0m\n",
            "\u001b[0;32m/usr/local/lib/python3.6/dist-packages/urllib3/util/connection.py\u001b[0m in \u001b[0;36mcreate_connection\u001b[0;34m(address, timeout, source_address, socket_options)\u001b[0m\n\u001b[1;32m     56\u001b[0m \u001b[0;34m\u001b[0m\u001b[0m\n\u001b[0;32m---> 57\u001b[0;31m     \u001b[0;32mfor\u001b[0m \u001b[0mres\u001b[0m \u001b[0;32min\u001b[0m \u001b[0msocket\u001b[0m\u001b[0;34m.\u001b[0m\u001b[0mgetaddrinfo\u001b[0m\u001b[0;34m(\u001b[0m\u001b[0mhost\u001b[0m\u001b[0;34m,\u001b[0m \u001b[0mport\u001b[0m\u001b[0;34m,\u001b[0m \u001b[0mfamily\u001b[0m\u001b[0;34m,\u001b[0m \u001b[0msocket\u001b[0m\u001b[0;34m.\u001b[0m\u001b[0mSOCK_STREAM\u001b[0m\u001b[0;34m)\u001b[0m\u001b[0;34m:\u001b[0m\u001b[0;34m\u001b[0m\u001b[0;34m\u001b[0m\u001b[0m\n\u001b[0m\u001b[1;32m     58\u001b[0m         \u001b[0maf\u001b[0m\u001b[0;34m,\u001b[0m \u001b[0msocktype\u001b[0m\u001b[0;34m,\u001b[0m \u001b[0mproto\u001b[0m\u001b[0;34m,\u001b[0m \u001b[0mcanonname\u001b[0m\u001b[0;34m,\u001b[0m \u001b[0msa\u001b[0m \u001b[0;34m=\u001b[0m \u001b[0mres\u001b[0m\u001b[0;34m\u001b[0m\u001b[0;34m\u001b[0m\u001b[0m\n",
            "\u001b[0;32m/usr/lib/python3.6/socket.py\u001b[0m in \u001b[0;36mgetaddrinfo\u001b[0;34m(host, port, family, type, proto, flags)\u001b[0m\n\u001b[1;32m    744\u001b[0m     \u001b[0maddrlist\u001b[0m \u001b[0;34m=\u001b[0m \u001b[0;34m[\u001b[0m\u001b[0;34m]\u001b[0m\u001b[0;34m\u001b[0m\u001b[0;34m\u001b[0m\u001b[0m\n\u001b[0;32m--> 745\u001b[0;31m     \u001b[0;32mfor\u001b[0m \u001b[0mres\u001b[0m \u001b[0;32min\u001b[0m \u001b[0m_socket\u001b[0m\u001b[0;34m.\u001b[0m\u001b[0mgetaddrinfo\u001b[0m\u001b[0;34m(\u001b[0m\u001b[0mhost\u001b[0m\u001b[0;34m,\u001b[0m \u001b[0mport\u001b[0m\u001b[0;34m,\u001b[0m \u001b[0mfamily\u001b[0m\u001b[0;34m,\u001b[0m \u001b[0mtype\u001b[0m\u001b[0;34m,\u001b[0m \u001b[0mproto\u001b[0m\u001b[0;34m,\u001b[0m \u001b[0mflags\u001b[0m\u001b[0;34m)\u001b[0m\u001b[0;34m:\u001b[0m\u001b[0;34m\u001b[0m\u001b[0;34m\u001b[0m\u001b[0m\n\u001b[0m\u001b[1;32m    746\u001b[0m         \u001b[0maf\u001b[0m\u001b[0;34m,\u001b[0m \u001b[0msocktype\u001b[0m\u001b[0;34m,\u001b[0m \u001b[0mproto\u001b[0m\u001b[0;34m,\u001b[0m \u001b[0mcanonname\u001b[0m\u001b[0;34m,\u001b[0m \u001b[0msa\u001b[0m \u001b[0;34m=\u001b[0m \u001b[0mres\u001b[0m\u001b[0;34m\u001b[0m\u001b[0;34m\u001b[0m\u001b[0m\n",
            "\u001b[0;31mgaierror\u001b[0m: [Errno -2] Name or service not known",
            "\nDuring handling of the above exception, another exception occurred:\n",
            "\u001b[0;31mNewConnectionError\u001b[0m                        Traceback (most recent call last)",
            "\u001b[0;32m/usr/local/lib/python3.6/dist-packages/urllib3/connectionpool.py\u001b[0m in \u001b[0;36murlopen\u001b[0;34m(self, method, url, body, headers, retries, redirect, assert_same_host, timeout, pool_timeout, release_conn, chunked, body_pos, **response_kw)\u001b[0m\n\u001b[1;32m    599\u001b[0m                                                   \u001b[0mbody\u001b[0m\u001b[0;34m=\u001b[0m\u001b[0mbody\u001b[0m\u001b[0;34m,\u001b[0m \u001b[0mheaders\u001b[0m\u001b[0;34m=\u001b[0m\u001b[0mheaders\u001b[0m\u001b[0;34m,\u001b[0m\u001b[0;34m\u001b[0m\u001b[0;34m\u001b[0m\u001b[0m\n\u001b[0;32m--> 600\u001b[0;31m                                                   chunked=chunked)\n\u001b[0m\u001b[1;32m    601\u001b[0m \u001b[0;34m\u001b[0m\u001b[0m\n",
            "\u001b[0;32m/usr/local/lib/python3.6/dist-packages/urllib3/connectionpool.py\u001b[0m in \u001b[0;36m_make_request\u001b[0;34m(self, conn, method, url, timeout, chunked, **httplib_request_kw)\u001b[0m\n\u001b[1;32m    353\u001b[0m         \u001b[0;32melse\u001b[0m\u001b[0;34m:\u001b[0m\u001b[0;34m\u001b[0m\u001b[0;34m\u001b[0m\u001b[0m\n\u001b[0;32m--> 354\u001b[0;31m             \u001b[0mconn\u001b[0m\u001b[0;34m.\u001b[0m\u001b[0mrequest\u001b[0m\u001b[0;34m(\u001b[0m\u001b[0mmethod\u001b[0m\u001b[0;34m,\u001b[0m \u001b[0murl\u001b[0m\u001b[0;34m,\u001b[0m \u001b[0;34m**\u001b[0m\u001b[0mhttplib_request_kw\u001b[0m\u001b[0;34m)\u001b[0m\u001b[0;34m\u001b[0m\u001b[0;34m\u001b[0m\u001b[0m\n\u001b[0m\u001b[1;32m    355\u001b[0m \u001b[0;34m\u001b[0m\u001b[0m\n",
            "\u001b[0;32m/usr/lib/python3.6/http/client.py\u001b[0m in \u001b[0;36mrequest\u001b[0;34m(self, method, url, body, headers, encode_chunked)\u001b[0m\n\u001b[1;32m   1238\u001b[0m         \u001b[0;34m\"\"\"Send a complete request to the server.\"\"\"\u001b[0m\u001b[0;34m\u001b[0m\u001b[0;34m\u001b[0m\u001b[0m\n\u001b[0;32m-> 1239\u001b[0;31m         \u001b[0mself\u001b[0m\u001b[0;34m.\u001b[0m\u001b[0m_send_request\u001b[0m\u001b[0;34m(\u001b[0m\u001b[0mmethod\u001b[0m\u001b[0;34m,\u001b[0m \u001b[0murl\u001b[0m\u001b[0;34m,\u001b[0m \u001b[0mbody\u001b[0m\u001b[0;34m,\u001b[0m \u001b[0mheaders\u001b[0m\u001b[0;34m,\u001b[0m \u001b[0mencode_chunked\u001b[0m\u001b[0;34m)\u001b[0m\u001b[0;34m\u001b[0m\u001b[0;34m\u001b[0m\u001b[0m\n\u001b[0m\u001b[1;32m   1240\u001b[0m \u001b[0;34m\u001b[0m\u001b[0m\n",
            "\u001b[0;32m/usr/lib/python3.6/http/client.py\u001b[0m in \u001b[0;36m_send_request\u001b[0;34m(self, method, url, body, headers, encode_chunked)\u001b[0m\n\u001b[1;32m   1284\u001b[0m             \u001b[0mbody\u001b[0m \u001b[0;34m=\u001b[0m \u001b[0m_encode\u001b[0m\u001b[0;34m(\u001b[0m\u001b[0mbody\u001b[0m\u001b[0;34m,\u001b[0m \u001b[0;34m'body'\u001b[0m\u001b[0;34m)\u001b[0m\u001b[0;34m\u001b[0m\u001b[0;34m\u001b[0m\u001b[0m\n\u001b[0;32m-> 1285\u001b[0;31m         \u001b[0mself\u001b[0m\u001b[0;34m.\u001b[0m\u001b[0mendheaders\u001b[0m\u001b[0;34m(\u001b[0m\u001b[0mbody\u001b[0m\u001b[0;34m,\u001b[0m \u001b[0mencode_chunked\u001b[0m\u001b[0;34m=\u001b[0m\u001b[0mencode_chunked\u001b[0m\u001b[0;34m)\u001b[0m\u001b[0;34m\u001b[0m\u001b[0;34m\u001b[0m\u001b[0m\n\u001b[0m\u001b[1;32m   1286\u001b[0m \u001b[0;34m\u001b[0m\u001b[0m\n",
            "\u001b[0;32m/usr/lib/python3.6/http/client.py\u001b[0m in \u001b[0;36mendheaders\u001b[0;34m(self, message_body, encode_chunked)\u001b[0m\n\u001b[1;32m   1233\u001b[0m             \u001b[0;32mraise\u001b[0m \u001b[0mCannotSendHeader\u001b[0m\u001b[0;34m(\u001b[0m\u001b[0;34m)\u001b[0m\u001b[0;34m\u001b[0m\u001b[0;34m\u001b[0m\u001b[0m\n\u001b[0;32m-> 1234\u001b[0;31m         \u001b[0mself\u001b[0m\u001b[0;34m.\u001b[0m\u001b[0m_send_output\u001b[0m\u001b[0;34m(\u001b[0m\u001b[0mmessage_body\u001b[0m\u001b[0;34m,\u001b[0m \u001b[0mencode_chunked\u001b[0m\u001b[0;34m=\u001b[0m\u001b[0mencode_chunked\u001b[0m\u001b[0;34m)\u001b[0m\u001b[0;34m\u001b[0m\u001b[0;34m\u001b[0m\u001b[0m\n\u001b[0m\u001b[1;32m   1235\u001b[0m \u001b[0;34m\u001b[0m\u001b[0m\n",
            "\u001b[0;32m/usr/lib/python3.6/http/client.py\u001b[0m in \u001b[0;36m_send_output\u001b[0;34m(self, message_body, encode_chunked)\u001b[0m\n\u001b[1;32m   1025\u001b[0m         \u001b[0;32mdel\u001b[0m \u001b[0mself\u001b[0m\u001b[0;34m.\u001b[0m\u001b[0m_buffer\u001b[0m\u001b[0;34m[\u001b[0m\u001b[0;34m:\u001b[0m\u001b[0;34m]\u001b[0m\u001b[0;34m\u001b[0m\u001b[0;34m\u001b[0m\u001b[0m\n\u001b[0;32m-> 1026\u001b[0;31m         \u001b[0mself\u001b[0m\u001b[0;34m.\u001b[0m\u001b[0msend\u001b[0m\u001b[0;34m(\u001b[0m\u001b[0mmsg\u001b[0m\u001b[0;34m)\u001b[0m\u001b[0;34m\u001b[0m\u001b[0;34m\u001b[0m\u001b[0m\n\u001b[0m\u001b[1;32m   1027\u001b[0m \u001b[0;34m\u001b[0m\u001b[0m\n",
            "\u001b[0;32m/usr/lib/python3.6/http/client.py\u001b[0m in \u001b[0;36msend\u001b[0;34m(self, data)\u001b[0m\n\u001b[1;32m    963\u001b[0m             \u001b[0;32mif\u001b[0m \u001b[0mself\u001b[0m\u001b[0;34m.\u001b[0m\u001b[0mauto_open\u001b[0m\u001b[0;34m:\u001b[0m\u001b[0;34m\u001b[0m\u001b[0;34m\u001b[0m\u001b[0m\n\u001b[0;32m--> 964\u001b[0;31m                 \u001b[0mself\u001b[0m\u001b[0;34m.\u001b[0m\u001b[0mconnect\u001b[0m\u001b[0;34m(\u001b[0m\u001b[0;34m)\u001b[0m\u001b[0;34m\u001b[0m\u001b[0;34m\u001b[0m\u001b[0m\n\u001b[0m\u001b[1;32m    965\u001b[0m             \u001b[0;32melse\u001b[0m\u001b[0;34m:\u001b[0m\u001b[0;34m\u001b[0m\u001b[0;34m\u001b[0m\u001b[0m\n",
            "\u001b[0;32m/usr/local/lib/python3.6/dist-packages/urllib3/connection.py\u001b[0m in \u001b[0;36mconnect\u001b[0;34m(self)\u001b[0m\n\u001b[1;32m    180\u001b[0m     \u001b[0;32mdef\u001b[0m \u001b[0mconnect\u001b[0m\u001b[0;34m(\u001b[0m\u001b[0mself\u001b[0m\u001b[0;34m)\u001b[0m\u001b[0;34m:\u001b[0m\u001b[0;34m\u001b[0m\u001b[0;34m\u001b[0m\u001b[0m\n\u001b[0;32m--> 181\u001b[0;31m         \u001b[0mconn\u001b[0m \u001b[0;34m=\u001b[0m \u001b[0mself\u001b[0m\u001b[0;34m.\u001b[0m\u001b[0m_new_conn\u001b[0m\u001b[0;34m(\u001b[0m\u001b[0;34m)\u001b[0m\u001b[0;34m\u001b[0m\u001b[0;34m\u001b[0m\u001b[0m\n\u001b[0m\u001b[1;32m    182\u001b[0m         \u001b[0mself\u001b[0m\u001b[0;34m.\u001b[0m\u001b[0m_prepare_conn\u001b[0m\u001b[0;34m(\u001b[0m\u001b[0mconn\u001b[0m\u001b[0;34m)\u001b[0m\u001b[0;34m\u001b[0m\u001b[0;34m\u001b[0m\u001b[0m\n",
            "\u001b[0;32m/usr/local/lib/python3.6/dist-packages/urllib3/connection.py\u001b[0m in \u001b[0;36m_new_conn\u001b[0;34m(self)\u001b[0m\n\u001b[1;32m    167\u001b[0m             raise NewConnectionError(\n\u001b[0;32m--> 168\u001b[0;31m                 self, \"Failed to establish a new connection: %s\" % e)\n\u001b[0m\u001b[1;32m    169\u001b[0m \u001b[0;34m\u001b[0m\u001b[0m\n",
            "\u001b[0;31mNewConnectionError\u001b[0m: <urllib3.connection.HTTPConnection object at 0x7f0acbb84908>: Failed to establish a new connection: [Errno -2] Name or service not known",
            "\nDuring handling of the above exception, another exception occurred:\n",
            "\u001b[0;31mMaxRetryError\u001b[0m                             Traceback (most recent call last)",
            "\u001b[0;32m/usr/local/lib/python3.6/dist-packages/requests/adapters.py\u001b[0m in \u001b[0;36msend\u001b[0;34m(self, request, stream, timeout, verify, cert, proxies)\u001b[0m\n\u001b[1;32m    448\u001b[0m                     \u001b[0mretries\u001b[0m\u001b[0;34m=\u001b[0m\u001b[0mself\u001b[0m\u001b[0;34m.\u001b[0m\u001b[0mmax_retries\u001b[0m\u001b[0;34m,\u001b[0m\u001b[0;34m\u001b[0m\u001b[0;34m\u001b[0m\u001b[0m\n\u001b[0;32m--> 449\u001b[0;31m                     \u001b[0mtimeout\u001b[0m\u001b[0;34m=\u001b[0m\u001b[0mtimeout\u001b[0m\u001b[0;34m\u001b[0m\u001b[0;34m\u001b[0m\u001b[0m\n\u001b[0m\u001b[1;32m    450\u001b[0m                 )\n",
            "\u001b[0;32m/usr/local/lib/python3.6/dist-packages/urllib3/connectionpool.py\u001b[0m in \u001b[0;36murlopen\u001b[0;34m(self, method, url, body, headers, retries, redirect, assert_same_host, timeout, pool_timeout, release_conn, chunked, body_pos, **response_kw)\u001b[0m\n\u001b[1;32m    637\u001b[0m             retries = retries.increment(method, url, error=e, _pool=self,\n\u001b[0;32m--> 638\u001b[0;31m                                         _stacktrace=sys.exc_info()[2])\n\u001b[0m\u001b[1;32m    639\u001b[0m             \u001b[0mretries\u001b[0m\u001b[0;34m.\u001b[0m\u001b[0msleep\u001b[0m\u001b[0;34m(\u001b[0m\u001b[0;34m)\u001b[0m\u001b[0;34m\u001b[0m\u001b[0;34m\u001b[0m\u001b[0m\n",
            "\u001b[0;32m/usr/local/lib/python3.6/dist-packages/urllib3/util/retry.py\u001b[0m in \u001b[0;36mincrement\u001b[0;34m(self, method, url, response, error, _pool, _stacktrace)\u001b[0m\n\u001b[1;32m    398\u001b[0m         \u001b[0;32mif\u001b[0m \u001b[0mnew_retry\u001b[0m\u001b[0;34m.\u001b[0m\u001b[0mis_exhausted\u001b[0m\u001b[0;34m(\u001b[0m\u001b[0;34m)\u001b[0m\u001b[0;34m:\u001b[0m\u001b[0;34m\u001b[0m\u001b[0;34m\u001b[0m\u001b[0m\n\u001b[0;32m--> 399\u001b[0;31m             \u001b[0;32mraise\u001b[0m \u001b[0mMaxRetryError\u001b[0m\u001b[0;34m(\u001b[0m\u001b[0m_pool\u001b[0m\u001b[0;34m,\u001b[0m \u001b[0murl\u001b[0m\u001b[0;34m,\u001b[0m \u001b[0merror\u001b[0m \u001b[0;32mor\u001b[0m \u001b[0mResponseError\u001b[0m\u001b[0;34m(\u001b[0m\u001b[0mcause\u001b[0m\u001b[0;34m)\u001b[0m\u001b[0;34m)\u001b[0m\u001b[0;34m\u001b[0m\u001b[0;34m\u001b[0m\u001b[0m\n\u001b[0m\u001b[1;32m    400\u001b[0m \u001b[0;34m\u001b[0m\u001b[0m\n",
            "\u001b[0;31mMaxRetryError\u001b[0m: HTTPConnectionPool(host='0-one.org', port=80): Max retries exceeded with url: /2012/07/14/ouya-99-android-game-console/ (Caused by NewConnectionError('<urllib3.connection.HTTPConnection object at 0x7f0acbb84908>: Failed to establish a new connection: [Errno -2] Name or service not known',))",
            "\nDuring handling of the above exception, another exception occurred:\n",
            "\u001b[0;31mConnectionError\u001b[0m                           Traceback (most recent call last)",
            "\u001b[0;32m<ipython-input-11-a1f8882440ae>\u001b[0m in \u001b[0;36m<module>\u001b[0;34m()\u001b[0m\n\u001b[1;32m    104\u001b[0m       \u001b[0mprint\u001b[0m \u001b[0;34m(\u001b[0m\u001b[0;34m'ERROR: S:'\u001b[0m\u001b[0;34m,\u001b[0m \u001b[0msource_links\u001b[0m\u001b[0;34m[\u001b[0m\u001b[0midx\u001b[0m\u001b[0;34m]\u001b[0m\u001b[0;34m,\u001b[0m \u001b[0;34m'T:'\u001b[0m\u001b[0;34m,\u001b[0m \u001b[0mtarget_links\u001b[0m\u001b[0;34m[\u001b[0m\u001b[0midx\u001b[0m\u001b[0;34m]\u001b[0m\u001b[0;34m)\u001b[0m\u001b[0;34m\u001b[0m\u001b[0;34m\u001b[0m\u001b[0m\n\u001b[1;32m    105\u001b[0m \u001b[0;34m\u001b[0m\u001b[0m\n\u001b[0;32m--> 106\u001b[0;31m \u001b[0mbuild_corpus\u001b[0m\u001b[0;34m(\u001b[0m\u001b[0mdataset\u001b[0m\u001b[0;34m,\u001b[0m \u001b[0;36m50\u001b[0m\u001b[0;34m,\u001b[0m \u001b[0;36m50\u001b[0m\u001b[0;34m,\u001b[0m \u001b[0mlower_limit\u001b[0m\u001b[0;34m=\u001b[0m\u001b[0;36m0\u001b[0m\u001b[0;34m,\u001b[0m \u001b[0mlimit\u001b[0m\u001b[0;34m=\u001b[0m\u001b[0;36m100\u001b[0m\u001b[0;34m)\u001b[0m\u001b[0;34m\u001b[0m\u001b[0;34m\u001b[0m\u001b[0m\n\u001b[0m",
            "\u001b[0;32m<ipython-input-11-a1f8882440ae>\u001b[0m in \u001b[0;36mbuild_corpus\u001b[0;34m(dataset, source_window_size, target_window_size, lower_limit, limit)\u001b[0m\n\u001b[1;32m     22\u001b[0m     \u001b[0;31m# establish connection + convert to soup\u001b[0m\u001b[0;34m\u001b[0m\u001b[0;34m\u001b[0m\u001b[0;34m\u001b[0m\u001b[0m\n\u001b[1;32m     23\u001b[0m     \u001b[0mprint\u001b[0m \u001b[0;34m(\u001b[0m\u001b[0;34m\"Accessing:\"\u001b[0m\u001b[0;34m,\u001b[0m \u001b[0msource_links\u001b[0m\u001b[0;34m[\u001b[0m\u001b[0midx\u001b[0m\u001b[0;34m]\u001b[0m\u001b[0;34m)\u001b[0m\u001b[0;34m\u001b[0m\u001b[0;34m\u001b[0m\u001b[0m\n\u001b[0;32m---> 24\u001b[0;31m     \u001b[0mr\u001b[0m  \u001b[0;34m=\u001b[0m \u001b[0mrequests\u001b[0m\u001b[0;34m.\u001b[0m\u001b[0mget\u001b[0m\u001b[0;34m(\u001b[0m\u001b[0msource_links\u001b[0m\u001b[0;34m[\u001b[0m\u001b[0midx\u001b[0m\u001b[0;34m]\u001b[0m\u001b[0;34m)\u001b[0m\u001b[0;34m\u001b[0m\u001b[0;34m\u001b[0m\u001b[0m\n\u001b[0m\u001b[1;32m     25\u001b[0m     \u001b[0mdata\u001b[0m \u001b[0;34m=\u001b[0m \u001b[0mr\u001b[0m\u001b[0;34m.\u001b[0m\u001b[0mtext\u001b[0m\u001b[0;34m\u001b[0m\u001b[0;34m\u001b[0m\u001b[0m\n\u001b[1;32m     26\u001b[0m     \u001b[0msoup\u001b[0m \u001b[0;34m=\u001b[0m \u001b[0mBeautifulSoup\u001b[0m\u001b[0;34m(\u001b[0m\u001b[0mdata\u001b[0m\u001b[0;34m)\u001b[0m\u001b[0;34m\u001b[0m\u001b[0;34m\u001b[0m\u001b[0m\n",
            "\u001b[0;32m/usr/local/lib/python3.6/dist-packages/requests/api.py\u001b[0m in \u001b[0;36mget\u001b[0;34m(url, params, **kwargs)\u001b[0m\n\u001b[1;32m     73\u001b[0m \u001b[0;34m\u001b[0m\u001b[0m\n\u001b[1;32m     74\u001b[0m     \u001b[0mkwargs\u001b[0m\u001b[0;34m.\u001b[0m\u001b[0msetdefault\u001b[0m\u001b[0;34m(\u001b[0m\u001b[0;34m'allow_redirects'\u001b[0m\u001b[0;34m,\u001b[0m \u001b[0;32mTrue\u001b[0m\u001b[0;34m)\u001b[0m\u001b[0;34m\u001b[0m\u001b[0;34m\u001b[0m\u001b[0m\n\u001b[0;32m---> 75\u001b[0;31m     \u001b[0;32mreturn\u001b[0m \u001b[0mrequest\u001b[0m\u001b[0;34m(\u001b[0m\u001b[0;34m'get'\u001b[0m\u001b[0;34m,\u001b[0m \u001b[0murl\u001b[0m\u001b[0;34m,\u001b[0m \u001b[0mparams\u001b[0m\u001b[0;34m=\u001b[0m\u001b[0mparams\u001b[0m\u001b[0;34m,\u001b[0m \u001b[0;34m**\u001b[0m\u001b[0mkwargs\u001b[0m\u001b[0;34m)\u001b[0m\u001b[0;34m\u001b[0m\u001b[0;34m\u001b[0m\u001b[0m\n\u001b[0m\u001b[1;32m     76\u001b[0m \u001b[0;34m\u001b[0m\u001b[0m\n\u001b[1;32m     77\u001b[0m \u001b[0;34m\u001b[0m\u001b[0m\n",
            "\u001b[0;32m/usr/local/lib/python3.6/dist-packages/requests/api.py\u001b[0m in \u001b[0;36mrequest\u001b[0;34m(method, url, **kwargs)\u001b[0m\n\u001b[1;32m     58\u001b[0m     \u001b[0;31m# cases, and look like a memory leak in others.\u001b[0m\u001b[0;34m\u001b[0m\u001b[0;34m\u001b[0m\u001b[0;34m\u001b[0m\u001b[0m\n\u001b[1;32m     59\u001b[0m     \u001b[0;32mwith\u001b[0m \u001b[0msessions\u001b[0m\u001b[0;34m.\u001b[0m\u001b[0mSession\u001b[0m\u001b[0;34m(\u001b[0m\u001b[0;34m)\u001b[0m \u001b[0;32mas\u001b[0m \u001b[0msession\u001b[0m\u001b[0;34m:\u001b[0m\u001b[0;34m\u001b[0m\u001b[0;34m\u001b[0m\u001b[0m\n\u001b[0;32m---> 60\u001b[0;31m         \u001b[0;32mreturn\u001b[0m \u001b[0msession\u001b[0m\u001b[0;34m.\u001b[0m\u001b[0mrequest\u001b[0m\u001b[0;34m(\u001b[0m\u001b[0mmethod\u001b[0m\u001b[0;34m=\u001b[0m\u001b[0mmethod\u001b[0m\u001b[0;34m,\u001b[0m \u001b[0murl\u001b[0m\u001b[0;34m=\u001b[0m\u001b[0murl\u001b[0m\u001b[0;34m,\u001b[0m \u001b[0;34m**\u001b[0m\u001b[0mkwargs\u001b[0m\u001b[0;34m)\u001b[0m\u001b[0;34m\u001b[0m\u001b[0;34m\u001b[0m\u001b[0m\n\u001b[0m\u001b[1;32m     61\u001b[0m \u001b[0;34m\u001b[0m\u001b[0m\n\u001b[1;32m     62\u001b[0m \u001b[0;34m\u001b[0m\u001b[0m\n",
            "\u001b[0;32m/usr/local/lib/python3.6/dist-packages/requests/sessions.py\u001b[0m in \u001b[0;36mrequest\u001b[0;34m(self, method, url, params, data, headers, cookies, files, auth, timeout, allow_redirects, proxies, hooks, stream, verify, cert, json)\u001b[0m\n\u001b[1;32m    531\u001b[0m         }\n\u001b[1;32m    532\u001b[0m         \u001b[0msend_kwargs\u001b[0m\u001b[0;34m.\u001b[0m\u001b[0mupdate\u001b[0m\u001b[0;34m(\u001b[0m\u001b[0msettings\u001b[0m\u001b[0;34m)\u001b[0m\u001b[0;34m\u001b[0m\u001b[0;34m\u001b[0m\u001b[0m\n\u001b[0;32m--> 533\u001b[0;31m         \u001b[0mresp\u001b[0m \u001b[0;34m=\u001b[0m \u001b[0mself\u001b[0m\u001b[0;34m.\u001b[0m\u001b[0msend\u001b[0m\u001b[0;34m(\u001b[0m\u001b[0mprep\u001b[0m\u001b[0;34m,\u001b[0m \u001b[0;34m**\u001b[0m\u001b[0msend_kwargs\u001b[0m\u001b[0;34m)\u001b[0m\u001b[0;34m\u001b[0m\u001b[0;34m\u001b[0m\u001b[0m\n\u001b[0m\u001b[1;32m    534\u001b[0m \u001b[0;34m\u001b[0m\u001b[0m\n\u001b[1;32m    535\u001b[0m         \u001b[0;32mreturn\u001b[0m \u001b[0mresp\u001b[0m\u001b[0;34m\u001b[0m\u001b[0;34m\u001b[0m\u001b[0m\n",
            "\u001b[0;32m/usr/local/lib/python3.6/dist-packages/requests/sessions.py\u001b[0m in \u001b[0;36msend\u001b[0;34m(self, request, **kwargs)\u001b[0m\n\u001b[1;32m    644\u001b[0m \u001b[0;34m\u001b[0m\u001b[0m\n\u001b[1;32m    645\u001b[0m         \u001b[0;31m# Send the request\u001b[0m\u001b[0;34m\u001b[0m\u001b[0;34m\u001b[0m\u001b[0;34m\u001b[0m\u001b[0m\n\u001b[0;32m--> 646\u001b[0;31m         \u001b[0mr\u001b[0m \u001b[0;34m=\u001b[0m \u001b[0madapter\u001b[0m\u001b[0;34m.\u001b[0m\u001b[0msend\u001b[0m\u001b[0;34m(\u001b[0m\u001b[0mrequest\u001b[0m\u001b[0;34m,\u001b[0m \u001b[0;34m**\u001b[0m\u001b[0mkwargs\u001b[0m\u001b[0;34m)\u001b[0m\u001b[0;34m\u001b[0m\u001b[0;34m\u001b[0m\u001b[0m\n\u001b[0m\u001b[1;32m    647\u001b[0m \u001b[0;34m\u001b[0m\u001b[0m\n\u001b[1;32m    648\u001b[0m         \u001b[0;31m# Total elapsed time of the request (approximately)\u001b[0m\u001b[0;34m\u001b[0m\u001b[0;34m\u001b[0m\u001b[0;34m\u001b[0m\u001b[0m\n",
            "\u001b[0;32m/usr/local/lib/python3.6/dist-packages/requests/adapters.py\u001b[0m in \u001b[0;36msend\u001b[0;34m(self, request, stream, timeout, verify, cert, proxies)\u001b[0m\n\u001b[1;32m    514\u001b[0m                 \u001b[0;32mraise\u001b[0m \u001b[0mSSLError\u001b[0m\u001b[0;34m(\u001b[0m\u001b[0me\u001b[0m\u001b[0;34m,\u001b[0m \u001b[0mrequest\u001b[0m\u001b[0;34m=\u001b[0m\u001b[0mrequest\u001b[0m\u001b[0;34m)\u001b[0m\u001b[0;34m\u001b[0m\u001b[0;34m\u001b[0m\u001b[0m\n\u001b[1;32m    515\u001b[0m \u001b[0;34m\u001b[0m\u001b[0m\n\u001b[0;32m--> 516\u001b[0;31m             \u001b[0;32mraise\u001b[0m \u001b[0mConnectionError\u001b[0m\u001b[0;34m(\u001b[0m\u001b[0me\u001b[0m\u001b[0;34m,\u001b[0m \u001b[0mrequest\u001b[0m\u001b[0;34m=\u001b[0m\u001b[0mrequest\u001b[0m\u001b[0;34m)\u001b[0m\u001b[0;34m\u001b[0m\u001b[0;34m\u001b[0m\u001b[0m\n\u001b[0m\u001b[1;32m    517\u001b[0m \u001b[0;34m\u001b[0m\u001b[0m\n\u001b[1;32m    518\u001b[0m         \u001b[0;32mexcept\u001b[0m \u001b[0mClosedPoolError\u001b[0m \u001b[0;32mas\u001b[0m \u001b[0me\u001b[0m\u001b[0;34m:\u001b[0m\u001b[0;34m\u001b[0m\u001b[0;34m\u001b[0m\u001b[0m\n",
            "\u001b[0;31mConnectionError\u001b[0m: HTTPConnectionPool(host='0-one.org', port=80): Max retries exceeded with url: /2012/07/14/ouya-99-android-game-console/ (Caused by NewConnectionError('<urllib3.connection.HTTPConnection object at 0x7f0acbb84908>: Failed to establish a new connection: [Errno -2] Name or service not known',))"
          ]
        }
      ]
    },
    {
      "cell_type": "code",
      "metadata": {
        "id": "aW7OCSvmvq0y",
        "colab_type": "code",
        "outputId": "ad44a843-de3f-4fdf-e75b-8b0b0fac0726",
        "colab": {
          "base_uri": "https://localhost:8080/",
          "height": 1000
        }
      },
      "source": [
        "def build_corpus(dataset, source_window_size, target_window_size, lower_limit=0, limit=0):\n",
        "  \"\"\"\n",
        "  [SOURCE_TEXT...MENTION_TOKEN,TARGET_TEXT...],\n",
        "  <special_tokens>\n",
        "  [SOURCE_TEXT...MENTION_TOKEN,TARGET_TEXT...],\n",
        "  ...\n",
        "  \"\"\"\n",
        "\n",
        "  final_corpus = []\n",
        "\n",
        "  mention_tokens = [data[0] for data in dataset]\n",
        "  source_links = [data[1] for data in dataset]\n",
        "  target_links = [data[2] for data in dataset]\n",
        "\n",
        "  for idx in range(lower_limit, len(mention_tokens)-limit):\n",
        "    try:\n",
        "      # corpus for this idx\n",
        "      idx_corpus = []\n",
        "      # flags\n",
        "      source_ok, traget_ok = False, False\n",
        "\n",
        "      # ------------FOR SOURCE DATA SCRAPING------------\n",
        "      # establish connection + convert to soup\n",
        "      print (\"Accessing:\", source_links[idx])\n",
        "      r  = requests.get(source_links[idx])\n",
        "      data = r.text\n",
        "      soup = BeautifulSoup(data)\n",
        "\n",
        "      # find the correct link\n",
        "      matched_links = soup.find_all(name='a', attrs={'href': target_links[idx]})\n",
        "      matched_link = None\n",
        "\n",
        "      for link in matched_links:\n",
        "        if link.string.strip() == mention_tokens[idx]:\n",
        "          matched_link = link\n",
        "\n",
        "      # change the link text to a unique code, while saving the original text\n",
        "      original_token = matched_link.string\n",
        "      special_token = 'littlemini'\n",
        "      matched_link.string = special_token\n",
        "      original_token = str(original_token)\n",
        "\n",
        "      # get parent of matched link\n",
        "      parent = matched_link.parent\n",
        "\n",
        "      curr_window = 0\n",
        "\n",
        "      token_found = False\n",
        "\n",
        "      for text in parent.stripped_strings:\n",
        "        if token_found is True and curr_window >= source_window_size:\n",
        "          break \n",
        "        processed_text = textProcessingPipeline(text)\n",
        "        for word in processed_text:\n",
        "          if word == special_token:\n",
        "            token_found = True\n",
        "            word = original_token\n",
        "          idx_corpus.append(word)\n",
        "          if token_found:\n",
        "            curr_window += 1\n",
        "\n",
        "      # at this point the SOURCE TEXT as well as MENTION_TOKEN is stored in idx_corpus\n",
        "      # SOURCE OK - SET FLAG\n",
        "      if len(idx_corpus) > 0:\n",
        "        source_ok = True\n",
        "        source_len = len(idx_corpus)\n",
        "\n",
        "\n",
        "      # ------------FOR TARGET DATA SCRAPING------------\n",
        "\n",
        "      # establish connection + convert to soup\n",
        "      r  = requests.get(target_links[idx])\n",
        "      data = r.text\n",
        "      soup = BeautifulSoup(data)\n",
        "\n",
        "      # Get heading\n",
        "      heading = str(soup.find_all(name='h1', attrs={'id':'firstHeading'})[0].string)\n",
        "\n",
        "      # get all paras\n",
        "      paras = soup.find_all('p')\n",
        "      curr_para_idx = 0\n",
        "      curr_window = 0\n",
        "\n",
        "      # loop till we get the reqd words or till we run out of data\n",
        "      while curr_window < target_window_size and curr_para_idx < len(paras):\n",
        "        # get text in para\n",
        "        para_text = paras[curr_para_idx].stripped_strings\n",
        "        for text in para_text:\n",
        "            processed_text = textProcessingPipeline(text)\n",
        "            for word in processed_text:\n",
        "              if curr_window >= target_window_size:\n",
        "                break\n",
        "              idx_corpus.append(word)\n",
        "              curr_window += 1\n",
        "        curr_para_idx += 1\n",
        "\n",
        "      # at this point the TARGET TEXT stored in idx_corpus\n",
        "      # TARGET OK - SET FLAG\n",
        "      if len(idx_corpus) > source_len:\n",
        "        target_ok = True\n",
        "\n",
        "      if source_ok and target_ok:\n",
        "        final_corpus.append(idx_corpus)\n",
        "      else:\n",
        "        print ('ERROR: S:', source_links[idx], 'T:', target_links[idx])\n",
        "\n",
        "    except:\n",
        "      print ('Error for idx:', idx, 'Link:', source_links[idx])\n",
        "      continue\n",
        "    if idx%100==0:\n",
        "      print (\"Done\", idx)\n",
        "\n",
        "  return final_corpus\n",
        "\n",
        "\n",
        "final_corpus = build_corpus(dataset, 50, 50, lower_limit=0, limit=100)"
      ],
      "execution_count": 0,
      "outputs": [
        {
          "output_type": "stream",
          "text": [
            "Accessing: http://0-m-f-g.blogspot.com/2010/05/walt-disney-concert-hall.html\n",
            "Done 0\n",
            "Accessing: http://0-m-f-g.blogspot.com/2010/05/walt-disney-concert-hall.html\n",
            "Accessing: http://0-m-f-g.blogspot.com/2010/05/walt-disney-concert-hall.html\n",
            "Accessing: http://0-one.org/2012/07/14/ouya-99-android-game-console/\n",
            "Error for idx: 3 Link: http://0-one.org/2012/07/14/ouya-99-android-game-console/\n",
            "Accessing: http://0.yogins.com/2012/01/30/groupthink-and-centralized-bathrooms-with-knowledge-spillovers/\n",
            "Accessing: http://0.yogins.com/2012/01/30/groupthink-and-centralized-bathrooms-with-knowledge-spillovers/\n",
            "Accessing: http://00000000.ca/\n",
            "Error for idx: 6 Link: http://00000000.ca/\n",
            "Accessing: http://00000000.ca/\n",
            "Error for idx: 7 Link: http://00000000.ca/\n",
            "Accessing: http://00000000.ca/\n",
            "Error for idx: 8 Link: http://00000000.ca/\n",
            "Accessing: http://00000000.ca/\n",
            "Error for idx: 9 Link: http://00000000.ca/\n",
            "Accessing: http://00000000.ca/\n",
            "Error for idx: 10 Link: http://00000000.ca/\n",
            "Accessing: http://00000000.ca/\n",
            "Error for idx: 11 Link: http://00000000.ca/\n",
            "Accessing: http://00000000.ca/\n",
            "Error for idx: 12 Link: http://00000000.ca/\n",
            "Accessing: http://00000000.ca/\n",
            "Error for idx: 13 Link: http://00000000.ca/\n",
            "Accessing: http://00000000.ca/\n",
            "Error for idx: 14 Link: http://00000000.ca/\n",
            "Accessing: http://00000000.ca/\n",
            "Error for idx: 15 Link: http://00000000.ca/\n",
            "Accessing: http://00000000.ca/\n",
            "Error for idx: 16 Link: http://00000000.ca/\n",
            "Accessing: http://00000000.ca/\n",
            "Error for idx: 17 Link: http://00000000.ca/\n",
            "Accessing: http://00000000.ca/\n",
            "Error for idx: 18 Link: http://00000000.ca/\n",
            "Accessing: http://00000000.ca/\n",
            "Error for idx: 19 Link: http://00000000.ca/\n",
            "Accessing: http://00000000.ca/\n",
            "Error for idx: 20 Link: http://00000000.ca/\n",
            "Accessing: http://00000000.ca/\n",
            "Error for idx: 21 Link: http://00000000.ca/\n",
            "Accessing: http://00000000.ca/\n",
            "Error for idx: 22 Link: http://00000000.ca/\n",
            "Accessing: http://00000000.ca/\n",
            "Error for idx: 23 Link: http://00000000.ca/\n",
            "Accessing: http://00000000.ca/\n",
            "Error for idx: 24 Link: http://00000000.ca/\n",
            "Accessing: http://00000000.ca/\n",
            "Error for idx: 25 Link: http://00000000.ca/\n",
            "Accessing: http://00000000.ca/\n",
            "Error for idx: 26 Link: http://00000000.ca/\n",
            "Accessing: http://00000000.ca/\n",
            "Error for idx: 27 Link: http://00000000.ca/\n",
            "Accessing: http://00000000.ca/\n",
            "Error for idx: 28 Link: http://00000000.ca/\n",
            "Accessing: http://00000000.ca/\n",
            "Error for idx: 29 Link: http://00000000.ca/\n",
            "Accessing: http://00000000.ca/\n",
            "Error for idx: 30 Link: http://00000000.ca/\n",
            "Accessing: http://00000000.ca/\n",
            "Error for idx: 31 Link: http://00000000.ca/\n",
            "Accessing: http://00000000.ca/\n",
            "Error for idx: 32 Link: http://00000000.ca/\n",
            "Accessing: http://00000000.ca/\n",
            "Error for idx: 33 Link: http://00000000.ca/\n",
            "Accessing: http://001yourtranslationservice.com/computer-tips/how-to-use-seach-engines.html\n",
            "Error for idx: 34 Link: http://001yourtranslationservice.com/computer-tips/how-to-use-seach-engines.html\n",
            "Accessing: http://001yourtranslationservice.com/kenax_services.html\n",
            "Accessing: http://001yourtranslationservice.com/me/Kosmans/kosman-family-tree.htm\n",
            "Accessing: http://001yourtranslationservice.com/me/Kosmans/kosman-family-tree.htm\n",
            "Error for idx: 37 Link: http://001yourtranslationservice.com/me/Kosmans/kosman-family-tree.htm\n",
            "Accessing: http://001yourtranslationservice.com/me/Kosmans/kosman-family-tree.htm\n",
            "Accessing: http://001yourtranslationservice.com/submit-articles/2012/06/08/discussion-gypsies-using-name-title-book/\n",
            "Accessing: http://001yourtranslationservice.com/translations/jobs/Klingon.html\n",
            "Accessing: http://0064e92.netsolhost.com/blog1/page/2/\n",
            "Accessing: http://00avalon.wordpress.com/2008/01/26/311/\n",
            "Accessing: http://00avalon.wordpress.com/2008/03/12/naruto-chapter-393-spoilers/\n",
            "Accessing: http://00bien.tripod.com/\n",
            "Accessing: http://00bien.tripod.com/\n",
            "Accessing: http://00bien.tripod.com/\n",
            "Accessing: http://00bien.tripod.com/\n",
            "Accessing: http://00bien.tripod.com/\n",
            "Accessing: http://00bien.tripod.com/\n",
            "Accessing: http://00bien.tripod.com/id8.html\n",
            "Error for idx: 50 Link: http://00bien.tripod.com/id8.html\n",
            "Accessing: http://00bien.tripod.com/id8.html\n",
            "Error for idx: 51 Link: http://00bien.tripod.com/id8.html\n",
            "Accessing: http://00o00.blogspot.com/2010/02/kanye-west-in-givenchy-spring-2010.html\n",
            "Accessing: http://00pay.com/Offshore%20Payment%20Processing.cfm\n",
            "Accessing: http://010101.com.au/node/26\n",
            "Error for idx: 54 Link: http://010101.com.au/node/26\n",
            "Accessing: http://010fuss.com/tag/banse/\n",
            "Accessing: http://010fuss.com/tag/ces53/\n",
            "Accessing: http://010fuss.com/tag/dizl/\n",
            "Accessing: http://016aa9d.netsolhost.com/wordpresskids/?p=54\n",
            "Error for idx: 58 Link: http://016aa9d.netsolhost.com/wordpresskids/?p=54\n",
            "Accessing: http://017924b.netsolhost.com/ccblog/2008/09/\n",
            "Error for idx: 59 Link: http://017924b.netsolhost.com/ccblog/2008/09/\n",
            "Accessing: http://01law.wordpress.com/\n",
            "Error for idx: 60 Link: http://01law.wordpress.com/\n",
            "Accessing: http://01law.wordpress.com/\n",
            "Error for idx: 61 Link: http://01law.wordpress.com/\n",
            "Accessing: http://01lifeinreality1996.blogspot.com/\n",
            "Accessing: http://01lifeinreality1996.blogspot.com/\n",
            "Accessing: http://01naliot.blogspot.com/2011/01/bronze-paint-bathroom.html\n",
            "Error for idx: 64 Link: http://01naliot.blogspot.com/2011/01/bronze-paint-bathroom.html\n",
            "Accessing: http://01naliot.blogspot.com/2011/01/bronze-paint-bathroom.html\n",
            "Error for idx: 65 Link: http://01naliot.blogspot.com/2011/01/bronze-paint-bathroom.html\n",
            "Accessing: http://01natnat.wordpress.com/2008/12/\n",
            "Accessing: http://01natnat.wordpress.com/2008/12/\n",
            "Accessing: http://01natnat.wordpress.com/2008/12/\n",
            "Accessing: http://01natnat.wordpress.com/2008/12/\n",
            "Accessing: http://01natnat.wordpress.com/2008/12/\n",
            "Error for idx: 70 Link: http://01natnat.wordpress.com/2008/12/\n",
            "Accessing: http://01varvara.wordpress.com/2007/11/\n",
            "Accessing: http://01varvara.wordpress.com/2007/11/\n",
            "Accessing: http://01varvara.wordpress.com/2007/11/\n",
            "Accessing: http://01varvara.wordpress.com/2007/11/\n",
            "Accessing: http://01varvara.wordpress.com/2007/11/\n",
            "Accessing: http://01varvara.wordpress.com/2007/11/\n",
            "Accessing: http://01varvara.wordpress.com/2007/11/\n",
            "Accessing: http://01varvara.wordpress.com/2007/11/\n",
            "Accessing: http://01varvara.wordpress.com/2007/11/\n",
            "Accessing: http://01varvara.wordpress.com/2007/11/\n",
            "Accessing: http://01varvara.wordpress.com/2007/11/05/do-not-murder/\n",
            "Accessing: http://01varvara.wordpress.com/2007/11/05/do-not-murder/\n",
            "Accessing: http://01varvara.wordpress.com/2007/11/05/do-not-murder/\n",
            "Accessing: http://01varvara.wordpress.com/2007/11/05/do-not-murder/\n",
            "Accessing: http://01varvara.wordpress.com/2007/11/05/do-not-murder/\n",
            "Accessing: http://01varvara.wordpress.com/2007/11/05/do-not-murder/\n",
            "Accessing: http://01varvara.wordpress.com/2007/11/27/\n",
            "Accessing: http://01varvara.wordpress.com/2007/11/27/\n",
            "Accessing: http://01varvara.wordpress.com/2007/11/27/\n",
            "Accessing: http://01varvara.wordpress.com/2007/11/27/\n",
            "Accessing: http://01varvara.wordpress.com/2007/11/27/\n",
            "Accessing: http://01varvara.wordpress.com/2007/11/27/\n",
            "Accessing: http://01varvara.wordpress.com/2008/01/19/\n",
            "Error for idx: 93 Link: http://01varvara.wordpress.com/2008/01/19/\n",
            "Accessing: http://01varvara.wordpress.com/2008/01/19/\n",
            "Accessing: http://01varvara.wordpress.com/2008/01/19/\n",
            "Error for idx: 95 Link: http://01varvara.wordpress.com/2008/01/19/\n",
            "Accessing: http://01varvara.wordpress.com/2008/01/19/\n",
            "Accessing: http://01varvara.wordpress.com/2008/01/19/\n",
            "Accessing: http://01varvara.wordpress.com/2008/01/19/\n",
            "Accessing: http://01varvara.wordpress.com/2008/01/19/\n",
            "Accessing: http://01varvara.wordpress.com/2008/01/19/\n",
            "Done 100\n",
            "Accessing: http://01varvara.wordpress.com/2008/01/19/\n",
            "Accessing: http://01varvara.wordpress.com/2008/01/19/\n",
            "Accessing: http://01varvara.wordpress.com/2008/01/19/\n",
            "Error for idx: 103 Link: http://01varvara.wordpress.com/2008/01/19/\n",
            "Accessing: http://01varvara.wordpress.com/2008/01/19/\n",
            "Accessing: http://01varvara.wordpress.com/2008/01/27/n-k-bodarevsky-st-nicholas-of-myra-the-wonderworker-khram-spasa-na-krovi-church-of-the-saviour-on-the-spilt-blood-st-petersburg-rf-undated-1890s/\n",
            "Accessing: http://01varvara.wordpress.com/2008/01/27/n-k-bodarevsky-st-nicholas-of-myra-the-wonderworker-khram-spasa-na-krovi-church-of-the-saviour-on-the-spilt-blood-st-petersburg-rf-undated-1890s/\n",
            "Accessing: http://01varvara.wordpress.com/2008/01/27/n-k-bodarevsky-st-nicholas-of-myra-the-wonderworker-khram-spasa-na-krovi-church-of-the-saviour-on-the-spilt-blood-st-petersburg-rf-undated-1890s/\n",
            "Accessing: http://01varvara.wordpress.com/2008/03/31/natalia-kurguzova-miroshnik-patriarch-st-tikhon-1997/\n",
            "Error for idx: 108 Link: http://01varvara.wordpress.com/2008/03/31/natalia-kurguzova-miroshnik-patriarch-st-tikhon-1997/\n",
            "Accessing: http://01varvara.wordpress.com/2008/03/31/natalia-kurguzova-miroshnik-patriarch-st-tikhon-1997/\n",
            "Error for idx: 109 Link: http://01varvara.wordpress.com/2008/03/31/natalia-kurguzova-miroshnik-patriarch-st-tikhon-1997/\n",
            "Accessing: http://01varvara.wordpress.com/2008/03/31/natalia-kurguzova-miroshnik-patriarch-st-tikhon-1997/\n",
            "Error for idx: 110 Link: http://01varvara.wordpress.com/2008/03/31/natalia-kurguzova-miroshnik-patriarch-st-tikhon-1997/\n",
            "Accessing: http://01varvara.wordpress.com/2008/09/02/\n",
            "Error for idx: 111 Link: http://01varvara.wordpress.com/2008/09/02/\n",
            "Accessing: http://01varvara.wordpress.com/2008/09/02/\n",
            "Accessing: http://01varvara.wordpress.com/2008/09/02/\n",
            "Accessing: http://01varvara.wordpress.com/2008/09/02/\n",
            "Accessing: http://01varvara.wordpress.com/2008/09/02/\n",
            "Accessing: http://01varvara.wordpress.com/2008/10/page/2/\n",
            "Accessing: http://01varvara.wordpress.com/2008/10/page/2/\n",
            "Accessing: http://01varvara.wordpress.com/2009/12/11/\n",
            "Accessing: http://01varvara.wordpress.com/2010/04/26/page/2/\n",
            "Accessing: http://01varvara.wordpress.com/tag/boyar/\n",
            "Accessing: http://01varvara.wordpress.com/tag/boyar/\n",
            "Accessing: http://01varvara.wordpress.com/tag/boyar/\n",
            "Accessing: http://01varvara.wordpress.com/tag/boyar/\n",
            "Accessing: http://01varvara.wordpress.com/tag/boyar/\n",
            "Accessing: http://01varvara.wordpress.com/tag/boyar/\n",
            "Accessing: http://01varvara.wordpress.com/tag/boyar/\n",
            "Accessing: http://01varvara.wordpress.com/tag/boyar/\n",
            "Accessing: http://01varvara.wordpress.com/tag/boyar/\n",
            "Accessing: http://01varvara.wordpress.com/tag/boyar/\n",
            "Accessing: http://01varvara.wordpress.com/tag/boyar/\n",
            "Error for idx: 130 Link: http://01varvara.wordpress.com/tag/boyar/\n",
            "Accessing: http://01varvara.wordpress.com/tag/boyar/\n",
            "Accessing: http://01varvara.wordpress.com/tag/boyar/\n",
            "Accessing: http://01varvara.wordpress.com/tag/boyar/\n",
            "Error for idx: 133 Link: http://01varvara.wordpress.com/tag/boyar/\n",
            "Accessing: http://01varvara.wordpress.com/tag/byzantine/\n",
            "Error for idx: 134 Link: http://01varvara.wordpress.com/tag/byzantine/\n",
            "Accessing: http://01varvara.wordpress.com/tag/byzantine/\n",
            "Accessing: http://01varvara.wordpress.com/tag/byzantine/\n",
            "Error for idx: 136 Link: http://01varvara.wordpress.com/tag/byzantine/\n",
            "Accessing: http://01varvara.wordpress.com/tag/byzantine/\n",
            "Accessing: http://01varvara.wordpress.com/tag/byzantine/\n",
            "Error for idx: 138 Link: http://01varvara.wordpress.com/tag/byzantine/\n",
            "Accessing: http://01varvara.wordpress.com/tag/byzantine/\n",
            "Accessing: http://01varvara.wordpress.com/tag/byzantine/\n",
            "Error for idx: 140 Link: http://01varvara.wordpress.com/tag/byzantine/\n",
            "Accessing: http://01varvara.wordpress.com/tag/byzantine/\n",
            "Error for idx: 141 Link: http://01varvara.wordpress.com/tag/byzantine/\n",
            "Accessing: http://01varvara.wordpress.com/tag/byzantine/\n",
            "Error for idx: 142 Link: http://01varvara.wordpress.com/tag/byzantine/\n",
            "Accessing: http://01varvara.wordpress.com/tag/byzantine/\n",
            "Error for idx: 143 Link: http://01varvara.wordpress.com/tag/byzantine/\n",
            "Accessing: http://01varvara.wordpress.com/tag/byzantine/\n",
            "Accessing: http://01varvara.wordpress.com/tag/church-on-the-spilt-blood/\n",
            "Accessing: http://01varvara.wordpress.com/tag/church-on-the-spilt-blood/\n",
            "Accessing: http://01varvara.wordpress.com/tag/church-on-the-spilt-blood/\n",
            "Accessing: http://01varvara.wordpress.com/tag/family/\n",
            "Error for idx: 148 Link: http://01varvara.wordpress.com/tag/family/\n",
            "Accessing: http://01varvara.wordpress.com/tag/family/\n",
            "Error for idx: 149 Link: http://01varvara.wordpress.com/tag/family/\n",
            "Accessing: http://01varvara.wordpress.com/tag/family/\n",
            "Error for idx: 150 Link: http://01varvara.wordpress.com/tag/family/\n",
            "Accessing: http://01varvara.wordpress.com/tag/family/\n",
            "Error for idx: 151 Link: http://01varvara.wordpress.com/tag/family/\n",
            "Accessing: http://01varvara.wordpress.com/tag/family/\n"
          ],
          "name": "stdout"
        }
      ]
    },
    {
      "cell_type": "code",
      "metadata": {
        "id": "riucBea8lmll",
        "colab_type": "code",
        "outputId": "bd64d5e6-d607-423b-f672-bc1170197061",
        "colab": {
          "base_uri": "https://localhost:8080/",
          "height": 1000
        }
      },
      "source": [
        "final_corpus"
      ],
      "execution_count": 0,
      "outputs": [
        {
          "output_type": "execute_result",
          "data": {
            "text/plain": [
              "[['hi',\n",
              "  'today',\n",
              "  'want',\n",
              "  'share',\n",
              "  'everyone',\n",
              "  'famous',\n",
              "  'creation',\n",
              "  'walt',\n",
              "  'disney',\n",
              "  'concert',\n",
              "  'hall',\n",
              "  'located',\n",
              "  'los',\n",
              "  'angeles',\n",
              "  'california',\n",
              "  'serves',\n",
              "  'ho',\n",
              "  'Los Angeles Philharmonic',\n",
              "  'orchestra',\n",
              "  'los',\n",
              "  'angeles',\n",
              "  'master',\n",
              "  'chorale',\n",
              "  'creation',\n",
              "  'began',\n",
              "  'lilian',\n",
              "  'disney',\n",
              "  'made',\n",
              "  'gift',\n",
              "  'fifty',\n",
              "  'million',\n",
              "  'dollars',\n",
              "  'order',\n",
              "  'build',\n",
              "  'performance',\n",
              "  'venue',\n",
              "  'gift',\n",
              "  'people',\n",
              "  'los',\n",
              "  'angeles',\n",
              "  'tribute',\n",
              "  'walt',\n",
              "  'disney',\n",
              "  'devotion',\n",
              "  'arts',\n",
              "  'city',\n",
              "  'took',\n",
              "  'sixteen',\n",
              "  'years',\n",
              "  'complete',\n",
              "  'project',\n",
              "  'beginning',\n",
              "  'design',\n",
              "  'launch',\n",
              "  'construction',\n",
              "  'start',\n",
              "  'finally',\n",
              "  'inauguration',\n",
              "  'mass',\n",
              "  'coordination',\n",
              "  'experts',\n",
              "  'laborers',\n",
              "  'architects',\n",
              "  'creation',\n",
              "  'acoustic',\n",
              "  'theatre',\n",
              "  'made',\n",
              "  'possible',\n",
              "  'los',\n",
              "  'angeles',\n",
              "  'philharmonic',\n",
              "  'la',\n",
              "  'phil',\n",
              "  'lap',\n",
              "  'american',\n",
              "  'orchestra',\n",
              "  'based',\n",
              "  'los',\n",
              "  'angeles',\n",
              "  'california',\n",
              "  'regular',\n",
              "  'season',\n",
              "  'concerts',\n",
              "  'october',\n",
              "  'june',\n",
              "  'walt',\n",
              "  'disney',\n",
              "  'concert',\n",
              "  'hall',\n",
              "  'summer',\n",
              "  'season',\n",
              "  'hollywood',\n",
              "  'bowl',\n",
              "  'july',\n",
              "  'september',\n",
              "  'gustavo',\n",
              "  'dudamel',\n",
              "  'music',\n",
              "  'director',\n",
              "  'esapekka',\n",
              "  'salonen',\n",
              "  'conductor',\n",
              "  'laureate',\n",
              "  'zubin',\n",
              "  'mehta',\n",
              "  'conductor',\n",
              "  'emeritus',\n",
              "  'music',\n",
              "  'critics',\n",
              "  'described',\n",
              "  'orchestra',\n",
              "  'contemporary',\n",
              "  'minded',\n",
              "  'forward',\n",
              "  'thinking',\n",
              "  'talked',\n",
              "  'innovative',\n",
              "  'venturesome']]"
            ]
          },
          "metadata": {
            "tags": []
          },
          "execution_count": 13
        }
      ]
    },
    {
      "cell_type": "markdown",
      "metadata": {
        "id": "MSCkoezhoMcg",
        "colab_type": "text"
      },
      "source": [
        ""
      ]
    },
    {
      "cell_type": "markdown",
      "metadata": {
        "id": "-w2BmiVnoMZv",
        "colab_type": "text"
      },
      "source": [
        ""
      ]
    },
    {
      "cell_type": "markdown",
      "metadata": {
        "id": "y76q30_roMW4",
        "colab_type": "text"
      },
      "source": [
        ""
      ]
    },
    {
      "cell_type": "markdown",
      "metadata": {
        "id": "g-tBCps6oMS0",
        "colab_type": "text"
      },
      "source": [
        ""
      ]
    },
    {
      "cell_type": "markdown",
      "metadata": {
        "id": "gUP23oT7oMPi",
        "colab_type": "text"
      },
      "source": [
        ""
      ]
    },
    {
      "cell_type": "markdown",
      "metadata": {
        "id": "lzjNkPQaoMM3",
        "colab_type": "text"
      },
      "source": [
        ""
      ]
    },
    {
      "cell_type": "markdown",
      "metadata": {
        "id": "NQ-pIoAvoMKE",
        "colab_type": "text"
      },
      "source": [
        ""
      ]
    },
    {
      "cell_type": "markdown",
      "metadata": {
        "id": "iclf_LfFoMHc",
        "colab_type": "text"
      },
      "source": [
        ""
      ]
    },
    {
      "cell_type": "markdown",
      "metadata": {
        "id": "0Xxggd7ooMEo",
        "colab_type": "text"
      },
      "source": [
        ""
      ]
    },
    {
      "cell_type": "markdown",
      "metadata": {
        "id": "6Ji2AKTqoL_k",
        "colab_type": "text"
      },
      "source": [
        ""
      ]
    },
    {
      "cell_type": "markdown",
      "metadata": {
        "id": "hdSXAi7Kcdaj",
        "colab_type": "text"
      },
      "source": [
        ""
      ]
    },
    {
      "cell_type": "markdown",
      "metadata": {
        "id": "9PaUuCuScdXv",
        "colab_type": "text"
      },
      "source": [
        ""
      ]
    },
    {
      "cell_type": "markdown",
      "metadata": {
        "id": "hQNKk4jbcdSj",
        "colab_type": "text"
      },
      "source": [
        ""
      ]
    },
    {
      "cell_type": "markdown",
      "metadata": {
        "id": "TOlnzTYhcdO3",
        "colab_type": "text"
      },
      "source": [
        ""
      ]
    },
    {
      "cell_type": "markdown",
      "metadata": {
        "id": "Vf-fA_mDcdLv",
        "colab_type": "text"
      },
      "source": [
        ""
      ]
    }
  ]
}