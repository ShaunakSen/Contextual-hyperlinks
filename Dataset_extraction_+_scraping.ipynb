{
  "nbformat": 4,
  "nbformat_minor": 0,
  "metadata": {
    "colab": {
      "name": "Dataset extraction + scraping.ipynb",
      "version": "0.3.2",
      "provenance": [],
      "collapsed_sections": [],
      "include_colab_link": true
    },
    "kernelspec": {
      "name": "python3",
      "display_name": "Python 3"
    },
    "accelerator": "GPU"
  },
  "cells": [
    {
      "cell_type": "markdown",
      "metadata": {
        "id": "view-in-github",
        "colab_type": "text"
      },
      "source": [
        "<a href=\"https://colab.research.google.com/github/ShaunakSen/Contextual-hyperlinks/blob/master/Dataset_extraction_%2B_scraping.ipynb\" target=\"_parent\"><img src=\"https://colab.research.google.com/assets/colab-badge.svg\" alt=\"Open In Colab\"/></a>"
      ]
    },
    {
      "cell_type": "code",
      "metadata": {
        "id": "7ggv6C6fUpQZ",
        "colab_type": "code",
        "outputId": "3a6e67e5-e992-4e6a-e955-24a86ab80c5d",
        "colab": {
          "base_uri": "https://localhost:8080/",
          "height": 301
        }
      },
      "source": [
        "!wget https://github.com/google-research-datasets/wiki-links/raw/master/data-00001.gz"
      ],
      "execution_count": 0,
      "outputs": [
        {
          "output_type": "stream",
          "text": [
            "--2019-08-18 13:16:32--  https://github.com/google-research-datasets/wiki-links/raw/master/data-00001.gz\n",
            "Resolving github.com (github.com)... 140.82.113.4\n",
            "Connecting to github.com (github.com)|140.82.113.4|:443... connected.\n",
            "HTTP request sent, awaiting response... 302 Found\n",
            "Location: https://raw.githubusercontent.com/google-research-datasets/wiki-links/master/data-00001.gz [following]\n",
            "--2019-08-18 13:16:33--  https://raw.githubusercontent.com/google-research-datasets/wiki-links/master/data-00001.gz\n",
            "Resolving raw.githubusercontent.com (raw.githubusercontent.com)... 151.101.0.133, 151.101.64.133, 151.101.128.133, ...\n",
            "Connecting to raw.githubusercontent.com (raw.githubusercontent.com)|151.101.0.133|:443... connected.\n",
            "HTTP request sent, awaiting response... 200 OK\n",
            "Length: 17111634 (16M) [application/octet-stream]\n",
            "Saving to: ‘data-00001.gz’\n",
            "\n",
            "data-00001.gz       100%[===================>]  16.32M   101MB/s    in 0.2s    \n",
            "\n",
            "2019-08-18 13:16:34 (101 MB/s) - ‘data-00001.gz’ saved [17111634/17111634]\n",
            "\n"
          ],
          "name": "stdout"
        }
      ]
    },
    {
      "cell_type": "code",
      "metadata": {
        "id": "BSkuVcajTReQ",
        "colab_type": "code",
        "colab": {}
      },
      "source": [
        "import urllib.request\n",
        "import os\n",
        "import zipfile\n",
        "import re\n",
        "\n",
        "import requests\n",
        "from bs4 import BeautifulSoup\n",
        "\n",
        "import nltk\n",
        "import string"
      ],
      "execution_count": 0,
      "outputs": []
    },
    {
      "cell_type": "code",
      "metadata": {
        "id": "Fy3nlkXJot_j",
        "colab_type": "code",
        "outputId": "4baac45d-623a-4410-8cde-45aceda26770",
        "colab": {
          "base_uri": "https://localhost:8080/",
          "height": 1000
        }
      },
      "source": [
        "!python -m nltk.downloader all"
      ],
      "execution_count": 3,
      "outputs": [
        {
          "output_type": "stream",
          "text": [
            "/usr/lib/python3.6/runpy.py:125: RuntimeWarning: 'nltk.downloader' found in sys.modules after import of package 'nltk', but prior to execution of 'nltk.downloader'; this may result in unpredictable behaviour\n",
            "  warn(RuntimeWarning(msg))\n",
            "[nltk_data] Downloading collection 'all'\n",
            "[nltk_data]    | \n",
            "[nltk_data]    | Downloading package abc to /root/nltk_data...\n",
            "[nltk_data]    |   Package abc is already up-to-date!\n",
            "[nltk_data]    | Downloading package alpino to /root/nltk_data...\n",
            "[nltk_data]    |   Package alpino is already up-to-date!\n",
            "[nltk_data]    | Downloading package biocreative_ppi to\n",
            "[nltk_data]    |     /root/nltk_data...\n",
            "[nltk_data]    |   Package biocreative_ppi is already up-to-date!\n",
            "[nltk_data]    | Downloading package brown to /root/nltk_data...\n",
            "[nltk_data]    |   Package brown is already up-to-date!\n",
            "[nltk_data]    | Downloading package brown_tei to /root/nltk_data...\n",
            "[nltk_data]    |   Package brown_tei is already up-to-date!\n",
            "[nltk_data]    | Downloading package cess_cat to /root/nltk_data...\n",
            "[nltk_data]    |   Package cess_cat is already up-to-date!\n",
            "[nltk_data]    | Downloading package cess_esp to /root/nltk_data...\n",
            "[nltk_data]    |   Package cess_esp is already up-to-date!\n",
            "[nltk_data]    | Downloading package chat80 to /root/nltk_data...\n",
            "[nltk_data]    |   Package chat80 is already up-to-date!\n",
            "[nltk_data]    | Downloading package city_database to\n",
            "[nltk_data]    |     /root/nltk_data...\n",
            "[nltk_data]    |   Package city_database is already up-to-date!\n",
            "[nltk_data]    | Downloading package cmudict to /root/nltk_data...\n",
            "[nltk_data]    |   Package cmudict is already up-to-date!\n",
            "[nltk_data]    | Downloading package comparative_sentences to\n",
            "[nltk_data]    |     /root/nltk_data...\n",
            "[nltk_data]    |   Package comparative_sentences is already up-to-\n",
            "[nltk_data]    |       date!\n",
            "[nltk_data]    | Downloading package comtrans to /root/nltk_data...\n",
            "[nltk_data]    |   Package comtrans is already up-to-date!\n",
            "[nltk_data]    | Downloading package conll2000 to /root/nltk_data...\n",
            "[nltk_data]    |   Package conll2000 is already up-to-date!\n",
            "[nltk_data]    | Downloading package conll2002 to /root/nltk_data...\n",
            "[nltk_data]    |   Package conll2002 is already up-to-date!\n",
            "[nltk_data]    | Downloading package conll2007 to /root/nltk_data...\n",
            "[nltk_data]    |   Package conll2007 is already up-to-date!\n",
            "[nltk_data]    | Downloading package crubadan to /root/nltk_data...\n",
            "[nltk_data]    |   Package crubadan is already up-to-date!\n",
            "[nltk_data]    | Downloading package dependency_treebank to\n",
            "[nltk_data]    |     /root/nltk_data...\n",
            "[nltk_data]    |   Package dependency_treebank is already up-to-date!\n",
            "[nltk_data]    | Downloading package dolch to /root/nltk_data...\n",
            "[nltk_data]    |   Package dolch is already up-to-date!\n",
            "[nltk_data]    | Downloading package europarl_raw to\n",
            "[nltk_data]    |     /root/nltk_data...\n",
            "[nltk_data]    |   Package europarl_raw is already up-to-date!\n",
            "[nltk_data]    | Downloading package floresta to /root/nltk_data...\n",
            "[nltk_data]    |   Package floresta is already up-to-date!\n",
            "[nltk_data]    | Downloading package framenet_v15 to\n",
            "[nltk_data]    |     /root/nltk_data...\n",
            "[nltk_data]    |   Package framenet_v15 is already up-to-date!\n",
            "[nltk_data]    | Downloading package framenet_v17 to\n",
            "[nltk_data]    |     /root/nltk_data...\n",
            "[nltk_data]    |   Package framenet_v17 is already up-to-date!\n",
            "[nltk_data]    | Downloading package gazetteers to /root/nltk_data...\n",
            "[nltk_data]    |   Package gazetteers is already up-to-date!\n",
            "[nltk_data]    | Downloading package genesis to /root/nltk_data...\n",
            "[nltk_data]    |   Package genesis is already up-to-date!\n",
            "[nltk_data]    | Downloading package gutenberg to /root/nltk_data...\n",
            "[nltk_data]    |   Package gutenberg is already up-to-date!\n",
            "[nltk_data]    | Downloading package ieer to /root/nltk_data...\n",
            "[nltk_data]    |   Package ieer is already up-to-date!\n",
            "[nltk_data]    | Downloading package inaugural to /root/nltk_data...\n",
            "[nltk_data]    |   Package inaugural is already up-to-date!\n",
            "[nltk_data]    | Downloading package indian to /root/nltk_data...\n",
            "[nltk_data]    |   Package indian is already up-to-date!\n",
            "[nltk_data]    | Downloading package jeita to /root/nltk_data...\n",
            "[nltk_data]    |   Package jeita is already up-to-date!\n",
            "[nltk_data]    | Downloading package kimmo to /root/nltk_data...\n",
            "[nltk_data]    |   Package kimmo is already up-to-date!\n",
            "[nltk_data]    | Downloading package knbc to /root/nltk_data...\n",
            "[nltk_data]    |   Package knbc is already up-to-date!\n",
            "[nltk_data]    | Downloading package lin_thesaurus to\n",
            "[nltk_data]    |     /root/nltk_data...\n",
            "[nltk_data]    |   Package lin_thesaurus is already up-to-date!\n",
            "[nltk_data]    | Downloading package mac_morpho to /root/nltk_data...\n",
            "[nltk_data]    |   Package mac_morpho is already up-to-date!\n",
            "[nltk_data]    | Downloading package machado to /root/nltk_data...\n",
            "[nltk_data]    |   Package machado is already up-to-date!\n",
            "[nltk_data]    | Downloading package masc_tagged to /root/nltk_data...\n",
            "[nltk_data]    |   Package masc_tagged is already up-to-date!\n",
            "[nltk_data]    | Downloading package moses_sample to\n",
            "[nltk_data]    |     /root/nltk_data...\n",
            "[nltk_data]    |   Package moses_sample is already up-to-date!\n",
            "[nltk_data]    | Downloading package movie_reviews to\n",
            "[nltk_data]    |     /root/nltk_data...\n",
            "[nltk_data]    |   Package movie_reviews is already up-to-date!\n",
            "[nltk_data]    | Downloading package names to /root/nltk_data...\n",
            "[nltk_data]    |   Package names is already up-to-date!\n",
            "[nltk_data]    | Downloading package nombank.1.0 to /root/nltk_data...\n",
            "[nltk_data]    |   Package nombank.1.0 is already up-to-date!\n",
            "[nltk_data]    | Downloading package nps_chat to /root/nltk_data...\n",
            "[nltk_data]    |   Package nps_chat is already up-to-date!\n",
            "[nltk_data]    | Downloading package omw to /root/nltk_data...\n",
            "[nltk_data]    |   Package omw is already up-to-date!\n",
            "[nltk_data]    | Downloading package opinion_lexicon to\n",
            "[nltk_data]    |     /root/nltk_data...\n",
            "[nltk_data]    |   Package opinion_lexicon is already up-to-date!\n",
            "[nltk_data]    | Downloading package paradigms to /root/nltk_data...\n",
            "[nltk_data]    |   Package paradigms is already up-to-date!\n",
            "[nltk_data]    | Downloading package pil to /root/nltk_data...\n",
            "[nltk_data]    |   Package pil is already up-to-date!\n",
            "[nltk_data]    | Downloading package pl196x to /root/nltk_data...\n",
            "[nltk_data]    |   Package pl196x is already up-to-date!\n",
            "[nltk_data]    | Downloading package ppattach to /root/nltk_data...\n",
            "[nltk_data]    |   Package ppattach is already up-to-date!\n",
            "[nltk_data]    | Downloading package problem_reports to\n",
            "[nltk_data]    |     /root/nltk_data...\n",
            "[nltk_data]    |   Package problem_reports is already up-to-date!\n",
            "[nltk_data]    | Downloading package propbank to /root/nltk_data...\n",
            "[nltk_data]    |   Package propbank is already up-to-date!\n",
            "[nltk_data]    | Downloading package ptb to /root/nltk_data...\n",
            "[nltk_data]    |   Package ptb is already up-to-date!\n",
            "[nltk_data]    | Downloading package product_reviews_1 to\n",
            "[nltk_data]    |     /root/nltk_data...\n",
            "[nltk_data]    |   Package product_reviews_1 is already up-to-date!\n",
            "[nltk_data]    | Downloading package product_reviews_2 to\n",
            "[nltk_data]    |     /root/nltk_data...\n",
            "[nltk_data]    |   Package product_reviews_2 is already up-to-date!\n",
            "[nltk_data]    | Downloading package pros_cons to /root/nltk_data...\n",
            "[nltk_data]    |   Package pros_cons is already up-to-date!\n",
            "[nltk_data]    | Downloading package qc to /root/nltk_data...\n",
            "[nltk_data]    |   Package qc is already up-to-date!\n",
            "[nltk_data]    | Downloading package reuters to /root/nltk_data...\n",
            "[nltk_data]    |   Package reuters is already up-to-date!\n",
            "[nltk_data]    | Downloading package rte to /root/nltk_data...\n",
            "[nltk_data]    |   Package rte is already up-to-date!\n",
            "[nltk_data]    | Downloading package semcor to /root/nltk_data...\n",
            "[nltk_data]    |   Package semcor is already up-to-date!\n",
            "[nltk_data]    | Downloading package senseval to /root/nltk_data...\n",
            "[nltk_data]    |   Package senseval is already up-to-date!\n",
            "[nltk_data]    | Downloading package sentiwordnet to\n",
            "[nltk_data]    |     /root/nltk_data...\n",
            "[nltk_data]    |   Package sentiwordnet is already up-to-date!\n",
            "[nltk_data]    | Downloading package sentence_polarity to\n",
            "[nltk_data]    |     /root/nltk_data...\n",
            "[nltk_data]    |   Package sentence_polarity is already up-to-date!\n",
            "[nltk_data]    | Downloading package shakespeare to /root/nltk_data...\n",
            "[nltk_data]    |   Package shakespeare is already up-to-date!\n",
            "[nltk_data]    | Downloading package sinica_treebank to\n",
            "[nltk_data]    |     /root/nltk_data...\n",
            "[nltk_data]    |   Package sinica_treebank is already up-to-date!\n",
            "[nltk_data]    | Downloading package smultron to /root/nltk_data...\n",
            "[nltk_data]    |   Package smultron is already up-to-date!\n",
            "[nltk_data]    | Downloading package state_union to /root/nltk_data...\n",
            "[nltk_data]    |   Package state_union is already up-to-date!\n",
            "[nltk_data]    | Downloading package stopwords to /root/nltk_data...\n",
            "[nltk_data]    |   Package stopwords is already up-to-date!\n",
            "[nltk_data]    | Downloading package subjectivity to\n",
            "[nltk_data]    |     /root/nltk_data...\n",
            "[nltk_data]    |   Package subjectivity is already up-to-date!\n",
            "[nltk_data]    | Downloading package swadesh to /root/nltk_data...\n",
            "[nltk_data]    |   Package swadesh is already up-to-date!\n",
            "[nltk_data]    | Downloading package switchboard to /root/nltk_data...\n",
            "[nltk_data]    |   Package switchboard is already up-to-date!\n",
            "[nltk_data]    | Downloading package timit to /root/nltk_data...\n",
            "[nltk_data]    |   Package timit is already up-to-date!\n",
            "[nltk_data]    | Downloading package toolbox to /root/nltk_data...\n",
            "[nltk_data]    |   Package toolbox is already up-to-date!\n",
            "[nltk_data]    | Downloading package treebank to /root/nltk_data...\n",
            "[nltk_data]    |   Package treebank is already up-to-date!\n",
            "[nltk_data]    | Downloading package twitter_samples to\n",
            "[nltk_data]    |     /root/nltk_data...\n",
            "[nltk_data]    |   Package twitter_samples is already up-to-date!\n",
            "[nltk_data]    | Downloading package udhr to /root/nltk_data...\n",
            "[nltk_data]    |   Package udhr is already up-to-date!\n",
            "[nltk_data]    | Downloading package udhr2 to /root/nltk_data...\n",
            "[nltk_data]    |   Package udhr2 is already up-to-date!\n",
            "[nltk_data]    | Downloading package unicode_samples to\n",
            "[nltk_data]    |     /root/nltk_data...\n",
            "[nltk_data]    |   Package unicode_samples is already up-to-date!\n",
            "[nltk_data]    | Downloading package universal_treebanks_v20 to\n",
            "[nltk_data]    |     /root/nltk_data...\n",
            "[nltk_data]    |   Package universal_treebanks_v20 is already up-to-\n",
            "[nltk_data]    |       date!\n",
            "[nltk_data]    | Downloading package verbnet to /root/nltk_data...\n",
            "[nltk_data]    |   Package verbnet is already up-to-date!\n",
            "[nltk_data]    | Downloading package verbnet3 to /root/nltk_data...\n",
            "[nltk_data]    |   Package verbnet3 is already up-to-date!\n",
            "[nltk_data]    | Downloading package webtext to /root/nltk_data...\n",
            "[nltk_data]    |   Package webtext is already up-to-date!\n",
            "[nltk_data]    | Downloading package wordnet to /root/nltk_data...\n",
            "[nltk_data]    |   Package wordnet is already up-to-date!\n",
            "[nltk_data]    | Downloading package wordnet_ic to /root/nltk_data...\n",
            "[nltk_data]    |   Package wordnet_ic is already up-to-date!\n",
            "[nltk_data]    | Downloading package words to /root/nltk_data...\n",
            "[nltk_data]    |   Package words is already up-to-date!\n",
            "[nltk_data]    | Downloading package ycoe to /root/nltk_data...\n",
            "[nltk_data]    |   Package ycoe is already up-to-date!\n",
            "[nltk_data]    | Downloading package rslp to /root/nltk_data...\n",
            "[nltk_data]    |   Package rslp is already up-to-date!\n",
            "[nltk_data]    | Downloading package maxent_treebank_pos_tagger to\n",
            "[nltk_data]    |     /root/nltk_data...\n",
            "[nltk_data]    |   Package maxent_treebank_pos_tagger is already up-\n",
            "[nltk_data]    |       to-date!\n",
            "[nltk_data]    | Downloading package universal_tagset to\n",
            "[nltk_data]    |     /root/nltk_data...\n",
            "[nltk_data]    |   Package universal_tagset is already up-to-date!\n",
            "[nltk_data]    | Downloading package maxent_ne_chunker to\n",
            "[nltk_data]    |     /root/nltk_data...\n",
            "[nltk_data]    |   Package maxent_ne_chunker is already up-to-date!\n",
            "[nltk_data]    | Downloading package punkt to /root/nltk_data...\n",
            "[nltk_data]    |   Package punkt is already up-to-date!\n",
            "[nltk_data]    | Downloading package book_grammars to\n",
            "[nltk_data]    |     /root/nltk_data...\n",
            "[nltk_data]    |   Package book_grammars is already up-to-date!\n",
            "[nltk_data]    | Downloading package sample_grammars to\n",
            "[nltk_data]    |     /root/nltk_data...\n",
            "[nltk_data]    |   Package sample_grammars is already up-to-date!\n",
            "[nltk_data]    | Downloading package spanish_grammars to\n",
            "[nltk_data]    |     /root/nltk_data...\n",
            "[nltk_data]    |   Package spanish_grammars is already up-to-date!\n",
            "[nltk_data]    | Downloading package basque_grammars to\n",
            "[nltk_data]    |     /root/nltk_data...\n",
            "[nltk_data]    |   Package basque_grammars is already up-to-date!\n",
            "[nltk_data]    | Downloading package large_grammars to\n",
            "[nltk_data]    |     /root/nltk_data...\n",
            "[nltk_data]    |   Package large_grammars is already up-to-date!\n",
            "[nltk_data]    | Downloading package tagsets to /root/nltk_data...\n",
            "[nltk_data]    |   Package tagsets is already up-to-date!\n",
            "[nltk_data]    | Downloading package snowball_data to\n",
            "[nltk_data]    |     /root/nltk_data...\n",
            "[nltk_data]    |   Package snowball_data is already up-to-date!\n",
            "[nltk_data]    | Downloading package bllip_wsj_no_aux to\n",
            "[nltk_data]    |     /root/nltk_data...\n",
            "[nltk_data]    |   Package bllip_wsj_no_aux is already up-to-date!\n",
            "[nltk_data]    | Downloading package word2vec_sample to\n",
            "[nltk_data]    |     /root/nltk_data...\n",
            "[nltk_data]    |   Package word2vec_sample is already up-to-date!\n",
            "[nltk_data]    | Downloading package panlex_swadesh to\n",
            "[nltk_data]    |     /root/nltk_data...\n",
            "[nltk_data]    |   Package panlex_swadesh is already up-to-date!\n",
            "[nltk_data]    | Downloading package mte_teip5 to /root/nltk_data...\n",
            "[nltk_data]    |   Package mte_teip5 is already up-to-date!\n",
            "[nltk_data]    | Downloading package averaged_perceptron_tagger to\n",
            "[nltk_data]    |     /root/nltk_data...\n",
            "[nltk_data]    |   Package averaged_perceptron_tagger is already up-\n",
            "[nltk_data]    |       to-date!\n",
            "[nltk_data]    | Downloading package averaged_perceptron_tagger_ru to\n",
            "[nltk_data]    |     /root/nltk_data...\n",
            "[nltk_data]    |   Package averaged_perceptron_tagger_ru is already\n",
            "[nltk_data]    |       up-to-date!\n",
            "[nltk_data]    | Downloading package perluniprops to\n",
            "[nltk_data]    |     /root/nltk_data...\n",
            "[nltk_data]    |   Package perluniprops is already up-to-date!\n",
            "[nltk_data]    | Downloading package nonbreaking_prefixes to\n",
            "[nltk_data]    |     /root/nltk_data...\n",
            "[nltk_data]    |   Package nonbreaking_prefixes is already up-to-date!\n",
            "[nltk_data]    | Downloading package vader_lexicon to\n",
            "[nltk_data]    |     /root/nltk_data...\n",
            "[nltk_data]    |   Package vader_lexicon is already up-to-date!\n",
            "[nltk_data]    | Downloading package porter_test to /root/nltk_data...\n",
            "[nltk_data]    |   Package porter_test is already up-to-date!\n",
            "[nltk_data]    | Downloading package wmt15_eval to /root/nltk_data...\n",
            "[nltk_data]    |   Package wmt15_eval is already up-to-date!\n",
            "[nltk_data]    | Downloading package mwa_ppdb to /root/nltk_data...\n",
            "[nltk_data]    |   Package mwa_ppdb is already up-to-date!\n",
            "[nltk_data]    | \n",
            "[nltk_data]  Done downloading collection all\n"
          ],
          "name": "stdout"
        }
      ]
    },
    {
      "cell_type": "code",
      "metadata": {
        "id": "bZ6tlZdHT1Rp",
        "colab_type": "code",
        "colab": {}
      },
      "source": [
        "!gzip -d /content/data-00001.gz"
      ],
      "execution_count": 0,
      "outputs": []
    },
    {
      "cell_type": "code",
      "metadata": {
        "id": "xCuoNj3Fh-mp",
        "colab_type": "code",
        "outputId": "5be0d83d-467f-4a0c-f47b-090db12f54a5",
        "colab": {
          "resources": {
            "http://localhost:8080/nbextensions/google.colab/files.js": {
              "data": "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",
              "ok": true,
              "headers": [
                [
                  "content-type",
                  "application/javascript"
                ]
              ],
              "status": 200,
              "status_text": ""
            }
          },
          "base_uri": "https://localhost:8080/",
          "height": 74
        }
      },
      "source": [
        "from google.colab import files\n",
        "\n",
        "uploaded = files.upload()"
      ],
      "execution_count": 0,
      "outputs": [
        {
          "output_type": "display_data",
          "data": {
            "text/html": [
              "\n",
              "     <input type=\"file\" id=\"files-4496e9f9-2e6c-4530-b3ea-6d8642b5fe90\" name=\"files[]\" multiple disabled />\n",
              "     <output id=\"result-4496e9f9-2e6c-4530-b3ea-6d8642b5fe90\">\n",
              "      Upload widget is only available when the cell has been executed in the\n",
              "      current browser session. Please rerun this cell to enable.\n",
              "      </output>\n",
              "      <script src=\"/nbextensions/google.colab/files.js\"></script> "
            ],
            "text/plain": [
              "<IPython.core.display.HTML object>"
            ]
          },
          "metadata": {
            "tags": []
          }
        },
        {
          "output_type": "stream",
          "text": [
            "Saving data-00001 to data-00001\n"
          ],
          "name": "stdout"
        }
      ]
    },
    {
      "cell_type": "code",
      "metadata": {
        "id": "EY3e0WaHbjn6",
        "colab_type": "code",
        "colab": {}
      },
      "source": [
        "f = open('./data-00001', 'r')\n",
        "\n",
        "lines = f.readlines()"
      ],
      "execution_count": 0,
      "outputs": []
    },
    {
      "cell_type": "code",
      "metadata": {
        "id": "fwSNT2PwdsRY",
        "colab_type": "code",
        "outputId": "08a01c30-c81b-4580-d37f-97429ce4218f",
        "colab": {
          "base_uri": "https://localhost:8080/",
          "height": 34
        }
      },
      "source": [
        "def process_url(url):\n",
        "  \"\"\"\n",
        "  function to determine if to keep a URL or not\n",
        "  \"\"\"\n",
        "  # check start of url - http or https\n",
        "  if not url.startswith(\"http\"):\n",
        "    return False\n",
        "  # check first characters and extensions\n",
        "  if re.match(pattern='(http|https)://\\w.*', string=url) is None or url.endswith(\"pdf\") or url.endswith(\"doc\") or url.endswith(\"docx\"):\n",
        "    return False\n",
        "  # all passed return True\n",
        "  return True\n",
        "\n",
        "total_urls = 0 # etsimate of total source urls in the dataset: may contain duplicates \n",
        "\n",
        "for line in lines:\n",
        "  if (line.startswith(\"URL\")):\n",
        "    url = line.split()[1]\n",
        "    # check if URL valid\n",
        "    if process_url(url):\n",
        "      total_urls+=1\n",
        "\n",
        "\n",
        "print (\"Total URLs:\", total_urls)"
      ],
      "execution_count": 5,
      "outputs": [
        {
          "output_type": "stream",
          "text": [
            "Total URLs: 99494\n"
          ],
          "name": "stdout"
        }
      ]
    },
    {
      "cell_type": "code",
      "metadata": {
        "id": "sVzIKFl5GEU4",
        "colab_type": "code",
        "outputId": "ed292836-c9db-4cbd-f464-03789d45fcf1",
        "colab": {
          "base_uri": "https://localhost:8080/",
          "height": 70
        }
      },
      "source": [
        "mention_text = \"MENTION\tLos Angeles Philharmonic\t17030\thttp://en.wikipedia.org/wiki/Los_Angeles_Philharmonic\"\n",
        "\n",
        "mention_text = mention_text.split()\n",
        "\n",
        "print (mention_text)\n",
        "\n",
        "mention_token = \" \".join(mention_text[1:len(mention_text)-2])\n",
        "\n",
        "print (mention_token)\n",
        "\n",
        "target = mention_text[len(mention_text)-1]\n",
        "print (target)"
      ],
      "execution_count": 6,
      "outputs": [
        {
          "output_type": "stream",
          "text": [
            "['MENTION', 'Los', 'Angeles', 'Philharmonic', '17030', 'http://en.wikipedia.org/wiki/Los_Angeles_Philharmonic']\n",
            "Los Angeles Philharmonic\n",
            "http://en.wikipedia.org/wiki/Los_Angeles_Philharmonic\n"
          ],
          "name": "stdout"
        }
      ]
    },
    {
      "cell_type": "code",
      "metadata": {
        "id": "Hj4ckXAleE9V",
        "colab_type": "code",
        "colab": {}
      },
      "source": [
        "# [[mention_text, source, target], ...]\n",
        "\n",
        "dataset = []\n",
        "\n",
        "for i in range(len(lines)):\n",
        "  if (lines[i].startswith(\"URL\")):\n",
        "    url = lines[i].split()[1]\n",
        "    # check if URL valid\n",
        "    if process_url(url):\n",
        "      # look at the MENTION tags\n",
        "      curr_idx = i+1\n",
        "      next_line = lines[curr_idx]\n",
        "      while next_line.startswith(\"MENTION\"):\n",
        "        # MENTION detected\n",
        "        # split by ' '\n",
        "        mention_text = next_line.split()\n",
        "        # get mention tokens\n",
        "        mention_token = \" \".join(mention_text[1:len(mention_text)-2])\n",
        "        # get target link\n",
        "        target = mention_text[len(mention_text)-1]\n",
        "        # append in form: [mention_text, source, target]\n",
        "        dataset.append([mention_token, url, target])\n",
        "        curr_idx += 1\n",
        "        next_line = lines[curr_idx]\n"
      ],
      "execution_count": 0,
      "outputs": []
    },
    {
      "cell_type": "code",
      "metadata": {
        "id": "WB_lsA5LHl4K",
        "colab_type": "code",
        "outputId": "d6012a81-9e2f-404c-8091-7cc2e130bf89",
        "colab": {
          "base_uri": "https://localhost:8080/",
          "height": 514
        }
      },
      "source": [
        "dataset[:10]"
      ],
      "execution_count": 8,
      "outputs": [
        {
          "output_type": "execute_result",
          "data": {
            "text/plain": [
              "[['Los Angeles Philharmonic',\n",
              "  'http://0-m-f-g.blogspot.com/2010/05/walt-disney-concert-hall.html',\n",
              "  'http://en.wikipedia.org/wiki/Los_Angeles_Philharmonic'],\n",
              " ['Los Angeles Master Chorale',\n",
              "  'http://0-m-f-g.blogspot.com/2010/05/walt-disney-concert-hall.html',\n",
              "  'http://en.wikipedia.org/wiki/Los_Angeles_Master_Chorale'],\n",
              " ['Walt Disney',\n",
              "  'http://0-m-f-g.blogspot.com/2010/05/walt-disney-concert-hall.html',\n",
              "  'http://en.wikipedia.org/wiki/Walt_Disney'],\n",
              " ['Evo',\n",
              "  'http://0-one.org/2012/07/14/ouya-99-android-game-console/',\n",
              "  'http://en.wikipedia.org/wiki/EVO_Smart_Console'],\n",
              " ['Groupthink',\n",
              "  'http://0.yogins.com/2012/01/30/groupthink-and-centralized-bathrooms-with-knowledge-spillovers/',\n",
              "  'http://en.wikipedia.org/wiki/Groupthink'],\n",
              " ['Knowledge Spillovers',\n",
              "  'http://0.yogins.com/2012/01/30/groupthink-and-centralized-bathrooms-with-knowledge-spillovers/',\n",
              "  'http://en.wikipedia.org/wiki/Knowledge_spillover'],\n",
              " ['Latin',\n",
              "  'http://00000000.ca/',\n",
              "  'http://en.wikipedia.org/wiki/Latin_language'],\n",
              " ['knowledge',\n",
              "  'http://00000000.ca/',\n",
              "  'http://en.wikipedia.org/wiki/Knowledge'],\n",
              " ['universe', 'http://00000000.ca/', 'http://en.wikipedia.org/wiki/Universe'],\n",
              " ['Aristotle',\n",
              "  'http://00000000.ca/',\n",
              "  'http://en.wikipedia.org/wiki/Aristotle']]"
            ]
          },
          "metadata": {
            "tags": []
          },
          "execution_count": 8
        }
      ]
    },
    {
      "cell_type": "code",
      "metadata": {
        "id": "MATKjUpbHp0f",
        "colab_type": "code",
        "outputId": "1530e9a9-ca4b-4828-d3e2-32a52abed5dc",
        "colab": {
          "base_uri": "https://localhost:8080/",
          "height": 34
        }
      },
      "source": [
        "print (len(dataset))"
      ],
      "execution_count": 9,
      "outputs": [
        {
          "output_type": "stream",
          "text": [
            "373961\n"
          ],
          "name": "stdout"
        }
      ]
    },
    {
      "cell_type": "code",
      "metadata": {
        "id": "F8RfXo4IHuXp",
        "colab_type": "code",
        "outputId": "9509b371-9a11-4add-a377-90c202e1ec60",
        "colab": {
          "base_uri": "https://localhost:8080/",
          "height": 34
        }
      },
      "source": [
        "print (\"MENTIONs per link:\", len(dataset)/total_urls)"
      ],
      "execution_count": 10,
      "outputs": [
        {
          "output_type": "stream",
          "text": [
            "MENTIONs per link: 3.7586286610247854\n"
          ],
          "name": "stdout"
        }
      ]
    },
    {
      "cell_type": "markdown",
      "metadata": {
        "id": "GrOPZc6uCDz0",
        "colab_type": "text"
      },
      "source": [
        "We have now created a dataset for the file as:\n",
        "\n",
        "```\n",
        "[[MENTION_TOKEN, SOURCE, TARGET], ...]\n",
        "```\n",
        "\n",
        "Next step is scraping for information about SOURCE and TARGET and building a new dataset of form:\n",
        "\n",
        "```\n",
        "[SOURCE_TEXT...MENTION_TOKEN,TARGET_TEXT...],\n",
        "<special_tokens>\n",
        "[SOURCE_TEXT...MENTION_TOKEN,TARGET_TEXT...],\n",
        "...\n",
        "```\n"
      ]
    },
    {
      "cell_type": "code",
      "metadata": {
        "id": "Qpd_BHmJoC7P",
        "colab_type": "code",
        "colab": {}
      },
      "source": [
        "def textProcessingPipeline(text):\n",
        "  \"\"\"\n",
        "  preprocess text to get a window of words around the <mention>\n",
        "  1. split into words\n",
        "  2. convert to lowercase\n",
        "  3. remove punctuation\n",
        "  4. remove stopwords\n",
        "  \"\"\"\n",
        "  tokens = nltk.tokenize.word_tokenize(text)\n",
        "  tokens = [w.lower() for w in tokens]\n",
        "  # maketrans: If three arguments are passed, each character in the third argument is mapped to None\n",
        "  table = str.maketrans('','',string.punctuation)\n",
        "  punc_removed = [w.translate(table) for w in tokens]\n",
        "  # remove remaining tokens that are not alphabetic\n",
        "  punc_removed = [word for word in punc_removed if word.isalpha()]\n",
        "\n",
        "  stopwords = set(nltk.corpus.stopwords.words('english'))\n",
        "\n",
        "  stopwords_removed = [word for word in punc_removed if word not in stopwords]\n",
        "\n",
        "  return stopwords_removed"
      ],
      "execution_count": 0,
      "outputs": []
    },
    {
      "cell_type": "code",
      "metadata": {
        "id": "gzF2erLqkslR",
        "colab_type": "code",
        "colab": {
          "base_uri": "https://localhost:8080/",
          "height": 34
        },
        "outputId": "3033a0df-e891-494e-8ac5-0d3279734dc1"
      },
      "source": [
        "mention_tokens = [data[0] for data in dataset]\n",
        "source_links = [data[1] for data in dataset]\n",
        "target_links = [data[2] for data in dataset]\n",
        "\n",
        "print (len(mention_tokens)==len(source_links) == len(target_links) ==len(dataset))\n"
      ],
      "execution_count": 12,
      "outputs": [
        {
          "output_type": "stream",
          "text": [
            "True\n"
          ],
          "name": "stdout"
        }
      ]
    },
    {
      "cell_type": "code",
      "metadata": {
        "id": "KjsurHOElaS2",
        "colab_type": "code",
        "colab": {
          "base_uri": "https://localhost:8080/",
          "height": 390
        },
        "outputId": "89a36ac9-c39d-42cd-e47d-83e8ba2c86c3"
      },
      "source": [
        "for idx in range(len(mention_tokens)):\n",
        "  try:\n",
        "    r  = requests.get(source_links[idx])\n",
        "\n",
        "    data = r.text\n",
        "\n",
        "    soup = BeautifulSoup(data)\n",
        "  except:\n",
        "    print ('Error for idx:', idx, 'Link:', source_links[idx])\n",
        "    continue\n",
        "  if idx%100==0:\n",
        "    print (\"Done\", idx)"
      ],
      "execution_count": 0,
      "outputs": [
        {
          "output_type": "stream",
          "text": [
            "Done 0\n",
            "Error for idx: 3 Link: http://0-one.org/2012/07/14/ouya-99-android-game-console/\n",
            "Error for idx: 54 Link: http://010101.com.au/node/26\n",
            "Done 100\n",
            "Error for idx: 184 Link: http://02ad883.netsolhost.com/apologists.html\n",
            "Error for idx: 195 Link: http://02e134b.netsolhost.com/Blog/?paged=3\n",
            "Error for idx: 197 Link: http://02f5873.netsolhost.com/AllianceBattle/\n",
            "Error for idx: 198 Link: http://02f5873.netsolhost.com/AllianceBattle/\n",
            "Error for idx: 199 Link: http://02f5873.netsolhost.com/AllianceBattle/\n",
            "Error for idx: 200 Link: http://02f5873.netsolhost.com/AllianceBattle/\n",
            "Error for idx: 201 Link: http://02f5873.netsolhost.com/AllianceBattle/\n",
            "Error for idx: 289 Link: http://02mydafsoup-01.soup.io/tag/ipad\n",
            "Error for idx: 290 Link: http://02mydafsoup-01.soup.io/tag/ipad\n",
            "Error for idx: 291 Link: http://02mydafsoup-01.soup.io/tag/stratagem\n",
            "Error for idx: 292 Link: http://02mydafsoup-01.soup.io/tag/stratagem\n",
            "Error for idx: 293 Link: http://02mydafsoup-01.soup.io/tag/stratagem\n",
            "Error for idx: 299 Link: http://02varvara.wordpress.com/2008/03/02/page/2/\n",
            "Done 300\n",
            "Error for idx: 317 Link: http://02varvara.wordpress.com/2008/03/15/russia-awards-the-medal-of-aleksandr-pushkin-to-swedish-scholar/\n",
            "Error for idx: 320 Link: http://02varvara.wordpress.com/2008/03/15/russia-awards-the-medal-of-aleksandr-pushkin-to-swedish-scholar/\n",
            "Error for idx: 329 Link: http://02varvara.wordpress.com/2008/03/28/\n"
          ],
          "name": "stdout"
        }
      ]
    },
    {
      "cell_type": "code",
      "metadata": {
        "id": "n2tsJ1pjHy2E",
        "colab_type": "code",
        "colab": {}
      },
      "source": [
        "r  = requests.get(\"http://0-m-f-g.blogspot.com/2010/05/walt-disney-concert-hall.html\")\n",
        "\n",
        "data = r.text\n",
        "\n",
        "soup = BeautifulSoup(data)"
      ],
      "execution_count": 0,
      "outputs": []
    },
    {
      "cell_type": "code",
      "metadata": {
        "id": "FqU63ZkBTXo0",
        "colab_type": "code",
        "outputId": "1a287b8b-7b75-4ae9-a9da-0648e3489de6",
        "colab": {
          "base_uri": "https://localhost:8080/",
          "height": 54
        }
      },
      "source": [
        "matched_links = soup.find_all(name='a', attrs={'href': \"http://en.wikipedia.org/wiki/Los_Angeles_Philharmonic\"})\n",
        "matched_link = None\n",
        "\n",
        "\n",
        "for link in matched_links:\n",
        "  if link.string.strip() == 'Los Angeles Philharmonic':\n",
        "    matched_link = link\n",
        "\n",
        "print (matched_link)"
      ],
      "execution_count": 0,
      "outputs": [
        {
          "output_type": "stream",
          "text": [
            "<a href=\"http://en.wikipedia.org/wiki/Los_Angeles_Philharmonic\" style=\"font-family: georgia; color: rgb(0, 0, 0);\" title=\"Los Angeles Philharmonic\"><span style=\"text-decoration: none;\">Los Angeles Philharmonic</span></a>\n"
          ],
          "name": "stdout"
        }
      ]
    },
    {
      "cell_type": "code",
      "metadata": {
        "id": "Kwn-LfZfgVCa",
        "colab_type": "code",
        "outputId": "a7ee23eb-1f65-4b8a-b2d5-dacf826bf1a9",
        "colab": {
          "base_uri": "https://localhost:8080/",
          "height": 52
        }
      },
      "source": [
        "original_token = matched_link.string\n",
        "print (original_token)\n",
        "special_token = 'littlemini'\n",
        "matched_link.string = special_token\n",
        "print (matched_link)"
      ],
      "execution_count": 0,
      "outputs": [
        {
          "output_type": "stream",
          "text": [
            "Los Angeles Philharmonic\n",
            "<a href=\"http://en.wikipedia.org/wiki/Los_Angeles_Philharmonic\" style=\"font-family: georgia; color: rgb(0, 0, 0);\" title=\"Los Angeles Philharmonic\">littlemini</a>\n"
          ],
          "name": "stdout"
        }
      ]
    },
    {
      "cell_type": "code",
      "metadata": {
        "id": "D_aKOJUGFl8q",
        "colab_type": "code",
        "outputId": "217397e3-28a1-45ad-a425-0ecae19b40a5",
        "colab": {
          "base_uri": "https://localhost:8080/",
          "height": 34
        }
      },
      "source": [
        "original_token = str(original_token)\n",
        "print (type(original_token), type(special_token))"
      ],
      "execution_count": 0,
      "outputs": [
        {
          "output_type": "stream",
          "text": [
            "<class 'str'> <class 'str'>\n"
          ],
          "name": "stdout"
        }
      ]
    },
    {
      "cell_type": "code",
      "metadata": {
        "id": "-EioX1TOUAEq",
        "colab_type": "code",
        "colab": {}
      },
      "source": [
        "parent = matched_link.parent"
      ],
      "execution_count": 0,
      "outputs": []
    },
    {
      "cell_type": "code",
      "metadata": {
        "id": "NPxI6H1-f1-s",
        "colab_type": "code",
        "outputId": "c9f3c331-fe10-4df0-f987-8498a4f637c9",
        "colab": {
          "base_uri": "https://localhost:8080/",
          "height": 34
        }
      },
      "source": [
        "text_corpus = []\n",
        "\n",
        "window_size = 50\n",
        "\n",
        "curr_window = 0\n",
        "\n",
        "token_found = False\n",
        "\n",
        "for text in parent.stripped_strings:\n",
        "  if token_found is True and curr_window >= window_size:\n",
        "    break \n",
        "  processed_text = textProcessingPipeline(text)\n",
        "  for word in processed_text:\n",
        "    if word == special_token:\n",
        "      token_found = True\n",
        "      word = original_token\n",
        "    text_corpus.append(word)\n",
        "    if token_found:\n",
        "      curr_window += 1\n",
        "\n",
        "\n",
        "      \n",
        "print (len(text_corpus))\n"
      ],
      "execution_count": 126,
      "outputs": [
        {
          "output_type": "stream",
          "text": [
            "68\n"
          ],
          "name": "stdout"
        }
      ]
    },
    {
      "cell_type": "code",
      "metadata": {
        "id": "IyrHY6Udea5l",
        "colab_type": "code",
        "outputId": "ea61fa1c-1ac9-43d1-d7d3-f0ea2cfa75ce",
        "colab": {
          "base_uri": "https://localhost:8080/",
          "height": 1000
        }
      },
      "source": [
        "text_corpus"
      ],
      "execution_count": 127,
      "outputs": [
        {
          "output_type": "execute_result",
          "data": {
            "text/plain": [
              "['hi',\n",
              " 'today',\n",
              " 'want',\n",
              " 'share',\n",
              " 'everyone',\n",
              " 'famous',\n",
              " 'creation',\n",
              " 'walt',\n",
              " 'disney',\n",
              " 'concert',\n",
              " 'hall',\n",
              " 'located',\n",
              " 'los',\n",
              " 'angeles',\n",
              " 'california',\n",
              " 'serves',\n",
              " 'ho',\n",
              " 'Los Angeles Philharmonic',\n",
              " 'orchestra',\n",
              " 'los',\n",
              " 'angeles',\n",
              " 'master',\n",
              " 'chorale',\n",
              " 'creation',\n",
              " 'began',\n",
              " 'lilian',\n",
              " 'disney',\n",
              " 'made',\n",
              " 'gift',\n",
              " 'fifty',\n",
              " 'million',\n",
              " 'dollars',\n",
              " 'order',\n",
              " 'build',\n",
              " 'performance',\n",
              " 'venue',\n",
              " 'gift',\n",
              " 'people',\n",
              " 'los',\n",
              " 'angeles',\n",
              " 'tribute',\n",
              " 'walt',\n",
              " 'disney',\n",
              " 'devotion',\n",
              " 'arts',\n",
              " 'city',\n",
              " 'took',\n",
              " 'sixteen',\n",
              " 'years',\n",
              " 'complete',\n",
              " 'project',\n",
              " 'beginning',\n",
              " 'design',\n",
              " 'launch',\n",
              " 'construction',\n",
              " 'start',\n",
              " 'finally',\n",
              " 'inauguration',\n",
              " 'mass',\n",
              " 'coordination',\n",
              " 'experts',\n",
              " 'laborers',\n",
              " 'architects',\n",
              " 'creation',\n",
              " 'acoustic',\n",
              " 'theatre',\n",
              " 'made',\n",
              " 'possible']"
            ]
          },
          "metadata": {
            "tags": []
          },
          "execution_count": 127
        }
      ]
    },
    {
      "cell_type": "code",
      "metadata": {
        "id": "qSTAQeoaeFfX",
        "colab_type": "code",
        "outputId": "0a55cbfd-325f-48f3-cbfd-9af1aca7d780",
        "colab": {
          "base_uri": "https://localhost:8080/",
          "height": 34
        }
      },
      "source": [
        "print(len(text_corpus))"
      ],
      "execution_count": 0,
      "outputs": [
        {
          "output_type": "stream",
          "text": [
            "117\n"
          ],
          "name": "stdout"
        }
      ]
    },
    {
      "cell_type": "code",
      "metadata": {
        "id": "oP2lpoCdoO2z",
        "colab_type": "code",
        "colab": {}
      },
      "source": [
        "r  = requests.get(\"https://en.wikipedia.org/wiki/Los_Angeles_Master_Chorale\")\n",
        "\n",
        "data = r.text\n",
        "\n",
        "soup = BeautifulSoup(data)"
      ],
      "execution_count": 0,
      "outputs": []
    },
    {
      "cell_type": "code",
      "metadata": {
        "id": "bo47-jfZoSRc",
        "colab_type": "code",
        "colab": {
          "base_uri": "https://localhost:8080/",
          "height": 33
        },
        "outputId": "5af258f2-90e9-4240-b71c-074eaa98317e"
      },
      "source": [
        "heading = str(soup.find_all(name='h1', attrs={'id':'firstHeading'})[0].string)\n",
        "\n",
        "print (heading)\n",
        "\n"
      ],
      "execution_count": 30,
      "outputs": [
        {
          "output_type": "stream",
          "text": [
            "Los Angeles Master Chorale\n"
          ],
          "name": "stdout"
        }
      ]
    },
    {
      "cell_type": "code",
      "metadata": {
        "id": "dazQCgb3sLkV",
        "colab_type": "code",
        "colab": {
          "base_uri": "https://localhost:8080/",
          "height": 53
        },
        "outputId": "56ffa7b7-af22-48f4-f65c-d435dae99ab8"
      },
      "source": [
        "target_corpus = []\n",
        "paras = soup.find_all('p')\n",
        "curr_para_idx = 0\n",
        "curr_window = 0\n",
        "window_size = 100\n",
        "\n",
        "\n",
        "while curr_window < window_size and curr_para_idx < len(paras):\n",
        "  para_text = paras[curr_para_idx].stripped_strings\n",
        "  for text in para_text:\n",
        "      processed_text = textProcessingPipeline(text)\n",
        "      for word in processed_text:\n",
        "        if curr_window >= window_size:\n",
        "          break\n",
        "        target_corpus.append(word)\n",
        "        curr_window += 1\n",
        "  curr_para_idx += 1\n",
        "\n",
        "print (target_corpus, len(target_corpus))"
      ],
      "execution_count": 32,
      "outputs": [
        {
          "output_type": "stream",
          "text": [
            "['los', 'angeles', 'master', 'chorale', 'professional', 'chorus', 'los', 'angeles', 'california', 'one', 'resident', 'companies', 'los', 'angeles', 'music', 'center', 'walt', 'disney', 'concert', 'hall', 'founded', 'roger', 'wagner', 'one', 'three', 'original', 'resident', 'companies', 'music', 'center', 'los', 'angeles', 'county', 'grant', 'gershon', 'music', 'director', 'since', 'replacing', 'paul', 'salamunovich', 'master', 'chorale', 'performs', 'ten', 'times', 'per', 'year', 'season', 'presented', 'concerts', 'including', 'early', 'choral', 'music', 'contemporary', 'compositions', 'noted', 'presenting', 'numerous', 'world', 'us', 'west', 'coast', 'premieres', 'chorus', 'commissioned', 'premiered', 'new', 'works', 'citation', 'needed', 'master', 'chorale', 'regularly', 'performs', 'los', 'angeles', 'philharmonic', 'hollywood', 'bowl', 'orchestra', 'music', 'center', 'hollywood', 'bowl', 'leading', 'conductors', 'gustavo', 'dudamel', 'esapekka', 'salonen', 'zubin', 'mehta', 'andré', 'previn', 'pierre', 'boulez', 'michael', 'tilson'] 100\n"
          ],
          "name": "stdout"
        }
      ]
    },
    {
      "cell_type": "code",
      "metadata": {
        "id": "aW7OCSvmvq0y",
        "colab_type": "code",
        "colab": {}
      },
      "source": [
        "def build_corpus(dataset, source_window_size, target_window_size, limit=0):\n",
        "  \"\"\"\n",
        "  [SOURCE_TEXT...MENTION_TOKEN,TARGET_TEXT...],\n",
        "  <special_tokens>\n",
        "  [SOURCE_TEXT...MENTION_TOKEN,TARGET_TEXT...],\n",
        "  ...\n",
        "  \"\"\"\n",
        "\n",
        "  final_corpus = []\n",
        "\n",
        "  mention_tokens = [data[0] for data in dataset]\n",
        "  source_links = [data[1] for data in dataset]\n",
        "  target_links = [data[2] for data in dataset]\n",
        "\n",
        "  for idx in range(len(mention_tokens)-limit):\n",
        "    try:\n",
        "      # corpus for this idx\n",
        "      idx_corpus = []\n",
        "      # flags\n",
        "      source_ok, traget_ok = False, False\n",
        "\n",
        "      # ------------FOR SOURCE DATA SCRAPING------------\n",
        "      # establish connection + convert to soup\n",
        "      r  = requests.get(source_links[idx])\n",
        "      data = r.text\n",
        "      soup = BeautifulSoup(data)\n",
        "\n",
        "      # find the correct link\n",
        "      matched_links = soup.find_all(name='a', attrs={'href': target_links[idx]})\n",
        "      matched_link = None\n",
        "\n",
        "      for link in matched_links:\n",
        "        if link.string.strip() == 'Los Angeles Philharmonic':\n",
        "          matched_link = link\n",
        "\n",
        "      # change the link text to a unique code, while saving the original text\n",
        "      original_token = matched_link.string\n",
        "      special_token = 'littlemini'\n",
        "      matched_link.string = special_token\n",
        "      original_token = str(original_token)\n",
        "\n",
        "      # get parent of matched link\n",
        "      parent = matched_link.parent\n",
        "\n",
        "      curr_window = 0\n",
        "\n",
        "      token_found = False\n",
        "\n",
        "      for text in parent.stripped_strings:\n",
        "        if token_found is True and curr_window >= source_window_size:\n",
        "          break \n",
        "        processed_text = textProcessingPipeline(text)\n",
        "        for word in processed_text:\n",
        "          if word == special_token:\n",
        "            token_found = True\n",
        "            word = original_token\n",
        "          idx_corpus.append(word)\n",
        "          if token_found:\n",
        "            curr_window += 1\n",
        "\n",
        "      # at this point the SOURCE TEXT as well as MENTION_TOKEN is stored in idx_corpus\n",
        "      # SOURCE OK - SET FLAG\n",
        "      if len(idx_corpus) > 0:\n",
        "        source_ok = True\n",
        "        source_len = len(idx_corpus)\n",
        "\n",
        "\n",
        "      # ------------FOR TARGET DATA SCRAPING------------\n",
        "\n",
        "      # establish connection + convert to soup\n",
        "      r  = requests.get(target_links[idx])\n",
        "      data = r.text\n",
        "      soup = BeautifulSoup(data)\n",
        "\n",
        "      # Get heading\n",
        "      heading = str(soup.find_all(name='h1', attrs={'id':'firstHeading'})[0].string)\n",
        "\n",
        "      # get all paras\n",
        "      paras = soup.find_all('p')\n",
        "      curr_para_idx = 0\n",
        "      curr_window = 0\n",
        "\n",
        "      # loop till we get the reqd words or till we run out of data\n",
        "      while curr_window < target_window_size and curr_para_idx < len(paras):\n",
        "        # get text in para\n",
        "        para_text = paras[curr_para_idx].stripped_strings\n",
        "        for text in para_text:\n",
        "            processed_text = textProcessingPipeline(text)\n",
        "            for word in processed_text:\n",
        "              if curr_window >= target_window_size:\n",
        "                break\n",
        "              idx_corpus.append(word)\n",
        "              curr_window += 1\n",
        "        curr_para_idx += 1\n",
        "\n",
        "      # at this point the TARGET TEXT stored in idx_corpus\n",
        "      # TARGET OK - SET FLAG\n",
        "      if len(idx_corpus) > source_len:\n",
        "        target_ok = True\n",
        "\n",
        "      if source_ok and target_ok:\n",
        "        final_corpus.append(idx_corpus)\n",
        "      else:\n",
        "        print ('ERROR: S:', source_links[idx], 'T:', target_links[idx])\n",
        "\n",
        "\n",
        "\n",
        "    except:\n",
        "      print ('Error for idx:', idx, 'Link:', source_links[idx])\n",
        "      continue\n",
        "    if idx%100==0:\n",
        "      print (\"Done\", idx)\n",
        "\n",
        "\n"
      ],
      "execution_count": 0,
      "outputs": []
    },
    {
      "cell_type": "markdown",
      "metadata": {
        "id": "MSCkoezhoMcg",
        "colab_type": "text"
      },
      "source": [
        ""
      ]
    },
    {
      "cell_type": "markdown",
      "metadata": {
        "id": "-w2BmiVnoMZv",
        "colab_type": "text"
      },
      "source": [
        ""
      ]
    },
    {
      "cell_type": "markdown",
      "metadata": {
        "id": "y76q30_roMW4",
        "colab_type": "text"
      },
      "source": [
        ""
      ]
    },
    {
      "cell_type": "markdown",
      "metadata": {
        "id": "g-tBCps6oMS0",
        "colab_type": "text"
      },
      "source": [
        ""
      ]
    },
    {
      "cell_type": "markdown",
      "metadata": {
        "id": "gUP23oT7oMPi",
        "colab_type": "text"
      },
      "source": [
        ""
      ]
    },
    {
      "cell_type": "markdown",
      "metadata": {
        "id": "lzjNkPQaoMM3",
        "colab_type": "text"
      },
      "source": [
        ""
      ]
    },
    {
      "cell_type": "markdown",
      "metadata": {
        "id": "NQ-pIoAvoMKE",
        "colab_type": "text"
      },
      "source": [
        ""
      ]
    },
    {
      "cell_type": "markdown",
      "metadata": {
        "id": "iclf_LfFoMHc",
        "colab_type": "text"
      },
      "source": [
        ""
      ]
    },
    {
      "cell_type": "markdown",
      "metadata": {
        "id": "0Xxggd7ooMEo",
        "colab_type": "text"
      },
      "source": [
        ""
      ]
    },
    {
      "cell_type": "markdown",
      "metadata": {
        "id": "6Ji2AKTqoL_k",
        "colab_type": "text"
      },
      "source": [
        ""
      ]
    },
    {
      "cell_type": "markdown",
      "metadata": {
        "id": "hdSXAi7Kcdaj",
        "colab_type": "text"
      },
      "source": [
        ""
      ]
    },
    {
      "cell_type": "markdown",
      "metadata": {
        "id": "9PaUuCuScdXv",
        "colab_type": "text"
      },
      "source": [
        ""
      ]
    },
    {
      "cell_type": "markdown",
      "metadata": {
        "id": "hQNKk4jbcdSj",
        "colab_type": "text"
      },
      "source": [
        ""
      ]
    },
    {
      "cell_type": "markdown",
      "metadata": {
        "id": "TOlnzTYhcdO3",
        "colab_type": "text"
      },
      "source": [
        ""
      ]
    },
    {
      "cell_type": "markdown",
      "metadata": {
        "id": "Vf-fA_mDcdLv",
        "colab_type": "text"
      },
      "source": [
        ""
      ]
    }
  ]
}